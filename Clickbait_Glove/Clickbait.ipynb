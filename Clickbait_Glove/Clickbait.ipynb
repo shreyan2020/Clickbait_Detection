{
 "cells": [
  {
   "cell_type": "code",
   "execution_count": 83,
   "metadata": {
    "execution": {
     "iopub.execute_input": "2021-03-29T13:58:04.447450Z",
     "iopub.status.busy": "2021-03-29T13:58:04.439441Z",
     "iopub.status.idle": "2021-03-29T13:58:04.503435Z",
     "shell.execute_reply": "2021-03-29T13:58:04.495434Z",
     "shell.execute_reply.started": "2021-03-29T13:58:04.447450Z"
    }
   },
   "outputs": [],
   "source": [
    "import pandas as pd\n",
    "import numpy as np\n",
    "import re\n",
    "import json_lines\n",
    "import os\n",
    "import gzip\n",
    "import nltk\n",
    "from nltk.corpus import stopwords\n",
    "from nltk.stem import PorterStemmer \n",
    "from nltk.tokenize import word_tokenize \n",
    "from sklearn.model_selection import train_test_split\n",
    "from sklearn.model_selection import StratifiedShuffleSplit\n",
    "from sklearn.model_selection import GridSearchCV\n",
    "from sklearn.metrics import accuracy_score, confusion_matrix, classification_report\n",
    "from scipy import spatial"
   ]
  },
  {
   "cell_type": "code",
   "execution_count": 18,
   "metadata": {
    "execution": {
     "iopub.execute_input": "2021-03-29T13:02:43.818871Z",
     "iopub.status.busy": "2021-03-29T13:02:43.817874Z",
     "iopub.status.idle": "2021-03-29T13:02:43.850867Z",
     "shell.execute_reply": "2021-03-29T13:02:43.848866Z",
     "shell.execute_reply.started": "2021-03-29T13:02:43.818871Z"
    }
   },
   "outputs": [],
   "source": [
    "def load_data(path):\n",
    "    instance_file = open(os.path.join(path, 'instances.jsonl'),'rb')\n",
    "    truth_file = open(os.path.join(path, 'truth.jsonl'),'rb')\n",
    "    j_instance = []\n",
    "    j_truth = []\n",
    "    for item in json_lines.reader(instance_file):\n",
    "        j_instance.append(item)\n",
    "    \n",
    "    for item in json_lines.reader(truth_file):\n",
    "        j_truth.append(item)\n",
    "    \n",
    "    df_instance = pd.DataFrame(j_instance)\n",
    "    df_truth = pd.DataFrame(j_truth)\n",
    "    instance_file.close()\n",
    "    truth_file.close()\n",
    "    return df_instance, df_truth"
   ]
  },
  {
   "cell_type": "code",
   "execution_count": 19,
   "metadata": {
    "execution": {
     "iopub.execute_input": "2021-03-29T13:02:48.763472Z",
     "iopub.status.busy": "2021-03-29T13:02:48.762486Z",
     "iopub.status.idle": "2021-03-29T13:03:10.303253Z",
     "shell.execute_reply": "2021-03-29T13:03:10.301248Z",
     "shell.execute_reply.started": "2021-03-29T13:02:48.763472Z"
    }
   },
   "outputs": [
    {
     "name": "stdout",
     "output_type": "stream",
     "text": [
      "Wall time: 21.5 s\n"
     ]
    }
   ],
   "source": [
    "%%time\n",
    "df_instance , df_truth = load_data('clickbait17-validation-170630/')"
   ]
  },
  {
   "cell_type": "code",
   "execution_count": 9,
   "metadata": {},
   "outputs": [],
   "source": [
    "def preprocess(text, ps):\n",
    "    filtered_words = [ps.stem(word) for word in words if word not in stopwords.words('english')]"
   ]
  },
  {
   "cell_type": "code",
   "execution_count": 140,
   "metadata": {},
   "outputs": [],
   "source": [
    "df_instance = df_instance.drop('postMedia',1)\n",
    "ps = PorterStemmer()"
   ]
  },
  {
   "cell_type": "code",
   "execution_count": null,
   "metadata": {},
   "outputs": [],
   "source": []
  },
  {
   "cell_type": "code",
   "execution_count": 141,
   "metadata": {},
   "outputs": [
    {
     "data": {
      "text/html": [
       "<div>\n",
       "<style scoped>\n",
       "    .dataframe tbody tr th:only-of-type {\n",
       "        vertical-align: middle;\n",
       "    }\n",
       "\n",
       "    .dataframe tbody tr th {\n",
       "        vertical-align: top;\n",
       "    }\n",
       "\n",
       "    .dataframe thead th {\n",
       "        text-align: right;\n",
       "    }\n",
       "</style>\n",
       "<table border=\"1\" class=\"dataframe\">\n",
       "  <thead>\n",
       "    <tr style=\"text-align: right;\">\n",
       "      <th></th>\n",
       "      <th>postText</th>\n",
       "      <th>id</th>\n",
       "      <th>targetCaptions</th>\n",
       "      <th>targetParagraphs</th>\n",
       "      <th>targetTitle</th>\n",
       "      <th>postTimestamp</th>\n",
       "      <th>targetKeywords</th>\n",
       "      <th>targetDescription</th>\n",
       "    </tr>\n",
       "  </thead>\n",
       "  <tbody>\n",
       "    <tr>\n",
       "      <th>0</th>\n",
       "      <td>[UK’s response to modern slavery leaving victi...</td>\n",
       "      <td>858462320779026433</td>\n",
       "      <td>[modern-slavery-rex.jpg]</td>\n",
       "      <td>[Thousands of modern slavery victims have not ...</td>\n",
       "      <td>‘Inexcusable’ failures in UK’s response to mod...</td>\n",
       "      <td>Sat Apr 29 23:25:41 +0000 2017</td>\n",
       "      <td>modern slavery, Department For Work And Pensio...</td>\n",
       "      <td>“Inexcusable” failures in the UK’s system for ...</td>\n",
       "    </tr>\n",
       "    <tr>\n",
       "      <th>1</th>\n",
       "      <td>[this is good]</td>\n",
       "      <td>858421020331560960</td>\n",
       "      <td>[In this July 1, 2010 file photo, Dr. Charmain...</td>\n",
       "      <td>[President Donald Trump has appointed the pro-...</td>\n",
       "      <td>Donald Trump Appoints Pro-Life Advocate as Ass...</td>\n",
       "      <td>Sat Apr 29 20:41:34 +0000 2017</td>\n",
       "      <td>Americans United for Life, Dr. Charmaine Yoest...</td>\n",
       "      <td>President Donald Trump has appointed pro-life ...</td>\n",
       "    </tr>\n",
       "    <tr>\n",
       "      <th>2</th>\n",
       "      <td>[The \"forgotten\" Trump roast: Relive his bruta...</td>\n",
       "      <td>858368123753435136</td>\n",
       "      <td>[President Trump will not attend this year's W...</td>\n",
       "      <td>[When the White House correspondents’ dinner i...</td>\n",
       "      <td>The ‘forgotten’ Trump roast: Relive his brutal...</td>\n",
       "      <td>Sat Apr 29 17:11:23 +0000 2017</td>\n",
       "      <td>trump whcd, whcd, white house correspondents d...</td>\n",
       "      <td>President Trump won't be at this year's White ...</td>\n",
       "    </tr>\n",
       "    <tr>\n",
       "      <th>3</th>\n",
       "      <td>[Meet the happiest #dog in the world!]</td>\n",
       "      <td>858323428260139008</td>\n",
       "      <td>[Maru , Maru, Maru, Maru, Maru]</td>\n",
       "      <td>[Adorable is probably an understatement. This ...</td>\n",
       "      <td>Meet The Happiest Dog In The World, Maru The H...</td>\n",
       "      <td>Sat Apr 29 14:13:46 +0000 2017</td>\n",
       "      <td>Maru, husky, dogs, pandas, furball, instagram</td>\n",
       "      <td>The article is about Maru, a husky dog who has...</td>\n",
       "    </tr>\n",
       "    <tr>\n",
       "      <th>4</th>\n",
       "      <td>[Tokyo's subway is shut down amid fears over a...</td>\n",
       "      <td>858283602626347008</td>\n",
       "      <td>[All nine lines of Tokyo's subway system were ...</td>\n",
       "      <td>[One of Tokyo's major subways systems says it ...</td>\n",
       "      <td>Tokyo's subway is shut down amid fears over an...</td>\n",
       "      <td>Sat Apr 29 11:35:31 +0000 2017</td>\n",
       "      <td>Tokyo,subway,shut,fears,North,Korean,attack</td>\n",
       "      <td>The temporary suspension, which lasted ten min...</td>\n",
       "    </tr>\n",
       "  </tbody>\n",
       "</table>\n",
       "</div>"
      ],
      "text/plain": [
       "                                            postText                  id  \\\n",
       "0  [UK’s response to modern slavery leaving victi...  858462320779026433   \n",
       "1                                     [this is good]  858421020331560960   \n",
       "2  [The \"forgotten\" Trump roast: Relive his bruta...  858368123753435136   \n",
       "3             [Meet the happiest #dog in the world!]  858323428260139008   \n",
       "4  [Tokyo's subway is shut down amid fears over a...  858283602626347008   \n",
       "\n",
       "                                      targetCaptions  \\\n",
       "0                           [modern-slavery-rex.jpg]   \n",
       "1  [In this July 1, 2010 file photo, Dr. Charmain...   \n",
       "2  [President Trump will not attend this year's W...   \n",
       "3                    [Maru , Maru, Maru, Maru, Maru]   \n",
       "4  [All nine lines of Tokyo's subway system were ...   \n",
       "\n",
       "                                    targetParagraphs  \\\n",
       "0  [Thousands of modern slavery victims have not ...   \n",
       "1  [President Donald Trump has appointed the pro-...   \n",
       "2  [When the White House correspondents’ dinner i...   \n",
       "3  [Adorable is probably an understatement. This ...   \n",
       "4  [One of Tokyo's major subways systems says it ...   \n",
       "\n",
       "                                         targetTitle  \\\n",
       "0  ‘Inexcusable’ failures in UK’s response to mod...   \n",
       "1  Donald Trump Appoints Pro-Life Advocate as Ass...   \n",
       "2  The ‘forgotten’ Trump roast: Relive his brutal...   \n",
       "3  Meet The Happiest Dog In The World, Maru The H...   \n",
       "4  Tokyo's subway is shut down amid fears over an...   \n",
       "\n",
       "                    postTimestamp  \\\n",
       "0  Sat Apr 29 23:25:41 +0000 2017   \n",
       "1  Sat Apr 29 20:41:34 +0000 2017   \n",
       "2  Sat Apr 29 17:11:23 +0000 2017   \n",
       "3  Sat Apr 29 14:13:46 +0000 2017   \n",
       "4  Sat Apr 29 11:35:31 +0000 2017   \n",
       "\n",
       "                                      targetKeywords  \\\n",
       "0  modern slavery, Department For Work And Pensio...   \n",
       "1  Americans United for Life, Dr. Charmaine Yoest...   \n",
       "2  trump whcd, whcd, white house correspondents d...   \n",
       "3      Maru, husky, dogs, pandas, furball, instagram   \n",
       "4        Tokyo,subway,shut,fears,North,Korean,attack   \n",
       "\n",
       "                                   targetDescription  \n",
       "0  “Inexcusable” failures in the UK’s system for ...  \n",
       "1  President Donald Trump has appointed pro-life ...  \n",
       "2  President Trump won't be at this year's White ...  \n",
       "3  The article is about Maru, a husky dog who has...  \n",
       "4  The temporary suspension, which lasted ten min...  "
      ]
     },
     "execution_count": 141,
     "metadata": {},
     "output_type": "execute_result"
    }
   ],
   "source": [
    "df_instance.head()"
   ]
  },
  {
   "cell_type": "code",
   "execution_count": 228,
   "metadata": {},
   "outputs": [
    {
     "data": {
      "text/html": [
       "<div>\n",
       "<style scoped>\n",
       "    .dataframe tbody tr th:only-of-type {\n",
       "        vertical-align: middle;\n",
       "    }\n",
       "\n",
       "    .dataframe tbody tr th {\n",
       "        vertical-align: top;\n",
       "    }\n",
       "\n",
       "    .dataframe thead th {\n",
       "        text-align: right;\n",
       "    }\n",
       "</style>\n",
       "<table border=\"1\" class=\"dataframe\">\n",
       "  <thead>\n",
       "    <tr style=\"text-align: right;\">\n",
       "      <th></th>\n",
       "      <th>truthJudgments</th>\n",
       "      <th>truthMean</th>\n",
       "      <th>id</th>\n",
       "      <th>truthClass</th>\n",
       "      <th>truthMedian</th>\n",
       "      <th>truthMode</th>\n",
       "    </tr>\n",
       "  </thead>\n",
       "  <tbody>\n",
       "    <tr>\n",
       "      <th>0</th>\n",
       "      <td>[1.0, 1.0, 1.0, 1.0, 1.0]</td>\n",
       "      <td>1.000000</td>\n",
       "      <td>858464162594172928</td>\n",
       "      <td>clickbait</td>\n",
       "      <td>1.000000</td>\n",
       "      <td>1.000000</td>\n",
       "    </tr>\n",
       "    <tr>\n",
       "      <th>1</th>\n",
       "      <td>[0.3333333333, 0.0, 0.3333333333, 0.0, 0.0]</td>\n",
       "      <td>0.133333</td>\n",
       "      <td>858462320779026433</td>\n",
       "      <td>no-clickbait</td>\n",
       "      <td>0.000000</td>\n",
       "      <td>0.000000</td>\n",
       "    </tr>\n",
       "    <tr>\n",
       "      <th>2</th>\n",
       "      <td>[0.3333333333, 0.6666666666, 1.0, 0.0, 0.0]</td>\n",
       "      <td>0.400000</td>\n",
       "      <td>858460992073863168</td>\n",
       "      <td>no-clickbait</td>\n",
       "      <td>0.333333</td>\n",
       "      <td>0.000000</td>\n",
       "    </tr>\n",
       "    <tr>\n",
       "      <th>3</th>\n",
       "      <td>[0.0, 0.6666666666, 0.0, 0.3333333333, 0.33333...</td>\n",
       "      <td>0.266667</td>\n",
       "      <td>858459539296980995</td>\n",
       "      <td>no-clickbait</td>\n",
       "      <td>0.333333</td>\n",
       "      <td>0.333333</td>\n",
       "    </tr>\n",
       "    <tr>\n",
       "      <th>4</th>\n",
       "      <td>[0.0, 0.0, 0.0, 0.0, 0.0]</td>\n",
       "      <td>0.000000</td>\n",
       "      <td>858455355948384257</td>\n",
       "      <td>no-clickbait</td>\n",
       "      <td>0.000000</td>\n",
       "      <td>0.000000</td>\n",
       "    </tr>\n",
       "  </tbody>\n",
       "</table>\n",
       "</div>"
      ],
      "text/plain": [
       "                                      truthJudgments  truthMean  \\\n",
       "0                          [1.0, 1.0, 1.0, 1.0, 1.0]   1.000000   \n",
       "1        [0.3333333333, 0.0, 0.3333333333, 0.0, 0.0]   0.133333   \n",
       "2        [0.3333333333, 0.6666666666, 1.0, 0.0, 0.0]   0.400000   \n",
       "3  [0.0, 0.6666666666, 0.0, 0.3333333333, 0.33333...   0.266667   \n",
       "4                          [0.0, 0.0, 0.0, 0.0, 0.0]   0.000000   \n",
       "\n",
       "                   id    truthClass  truthMedian  truthMode  \n",
       "0  858464162594172928     clickbait     1.000000   1.000000  \n",
       "1  858462320779026433  no-clickbait     0.000000   0.000000  \n",
       "2  858460992073863168  no-clickbait     0.333333   0.000000  \n",
       "3  858459539296980995  no-clickbait     0.333333   0.333333  \n",
       "4  858455355948384257  no-clickbait     0.000000   0.000000  "
      ]
     },
     "execution_count": 228,
     "metadata": {},
     "output_type": "execute_result"
    }
   ],
   "source": [
    "df_truth[df_truth['id']=='858323428260139008']\n",
    "df_truth.head()"
   ]
  },
  {
   "cell_type": "code",
   "execution_count": 25,
   "metadata": {},
   "outputs": [],
   "source": [
    "def loadGloveModel(File):\n",
    "    print(\"Loading Glove Model\")\n",
    "    f = open(File,'r',encoding=\"utf8\")\n",
    "    gloveModel = {}\n",
    "    for line in f:\n",
    "        splitLines = line.split()\n",
    "        word = splitLines[0]\n",
    "        wordEmbedding = np.array([float(value) for value in splitLines[1:]])\n",
    "        gloveModel[word] = wordEmbedding\n",
    "    print(len(gloveModel),\" words loaded!\")\n",
    "    return gloveModel\n"
   ]
  },
  {
   "cell_type": "code",
   "execution_count": 26,
   "metadata": {},
   "outputs": [
    {
     "name": "stdout",
     "output_type": "stream",
     "text": [
      "Loading Glove Model\n",
      "1193514  words loaded!\n"
     ]
    }
   ],
   "source": [
    "embeddings = loadGloveModel(r'glove.twitter.27B/glove.twitter.27B.100d.txt')"
   ]
  },
  {
   "cell_type": "code",
   "execution_count": 34,
   "metadata": {},
   "outputs": [],
   "source": [
    "np.save('word_embeddings_dict.npy', embeddings) "
   ]
  },
  {
   "cell_type": "code",
   "execution_count": 2,
   "metadata": {
    "execution": {
     "iopub.execute_input": "2021-03-29T11:42:36.254024Z",
     "iopub.status.busy": "2021-03-29T11:42:36.254024Z",
     "iopub.status.idle": "2021-03-29T11:45:27.058213Z",
     "shell.execute_reply": "2021-03-29T11:45:27.045935Z",
     "shell.execute_reply.started": "2021-03-29T11:42:36.254024Z"
    }
   },
   "outputs": [],
   "source": [
    "embedding_index = np.load('word_embeddings_dict.npy',allow_pickle='TRUE').item()\n"
   ]
  },
  {
   "cell_type": "code",
   "execution_count": 9,
   "metadata": {
    "execution": {
     "iopub.execute_input": "2021-03-26T08:50:29.088589Z",
     "iopub.status.busy": "2021-03-26T08:50:29.088589Z",
     "iopub.status.idle": "2021-03-26T08:50:29.101590Z",
     "shell.execute_reply": "2021-03-26T08:50:29.100587Z",
     "shell.execute_reply.started": "2021-03-26T08:50:29.088589Z"
    }
   },
   "outputs": [
    {
     "data": {
      "text/plain": [
       "array([ 0.55793  ,  0.10748  , -0.57491  ,  0.4877   , -0.37792  ,\n",
       "       -0.036457 ,  1.0581   ,  0.059584 , -0.19582  , -0.41366  ,\n",
       "        0.054969 ,  0.10674  , -2.7076   , -0.50818  , -0.47456  ,\n",
       "        0.32746  ,  0.41643  , -0.53607  , -0.24822  , -0.63456  ,\n",
       "       -0.075781 , -1.1904   , -0.72504  ,  0.19499  ,  0.029645 ,\n",
       "       -0.98157  ,  0.27081  ,  0.32472  ,  0.51154  , -0.86702  ,\n",
       "       -0.36342  ,  0.14098  , -0.44251  ,  0.24804  ,  0.14021  ,\n",
       "       -0.042186 ,  0.10408  ,  0.23267  ,  0.26663  ,  0.40316  ,\n",
       "       -0.91011  ,  0.049339 ,  0.14842  ,  0.70496  , -0.013448 ,\n",
       "        0.35591  , -0.23494  , -0.83828  ,  0.0069803,  0.44702  ,\n",
       "       -0.27031  ,  0.0032742,  0.13265  , -0.68583  ,  0.90147  ,\n",
       "        0.60725  , -0.1849   ,  0.086123 , -0.1693   , -0.48741  ,\n",
       "        0.33445  , -0.10119  , -0.054273 , -0.35999  , -0.48967  ,\n",
       "       -0.36699  , -0.91001  , -0.38762  ,  0.14981  ,  0.14092  ,\n",
       "        0.6064   , -0.2507   ,  0.1582   , -0.33841  , -0.025642 ,\n",
       "        0.16793  , -0.045698 ,  0.62762  ,  0.30663  ,  0.25571  ,\n",
       "        1.5495   , -0.40935  ,  0.34489  ,  0.11414  ,  0.11457  ,\n",
       "       -0.31949  , -0.26473  ,  0.2956   ,  0.67942  , -0.19812  ,\n",
       "        0.31416  , -0.37571  , -0.52265  ,  0.042794 , -0.35241  ,\n",
       "       -0.057055 ,  0.27578  ,  0.04565  ,  0.27945  ,  0.11518  ])"
      ]
     },
     "execution_count": 9,
     "metadata": {},
     "output_type": "execute_result"
    }
   ],
   "source": [
    "embedding_index['hello']"
   ]
  },
  {
   "cell_type": "code",
   "execution_count": 172,
   "metadata": {},
   "outputs": [],
   "source": [
    "df= df_instance.copy()\n"
   ]
  },
  {
   "cell_type": "code",
   "execution_count": 174,
   "metadata": {},
   "outputs": [],
   "source": [
    "df['postText'] = [re.sub('[^a-zA-Z0-9 ]','',str(x)) for x in df['postText']]\n",
    "df['postText'] = [re.sub('xa0',' ',str(x)) for x in df['postText']]\n"
   ]
  },
  {
   "cell_type": "code",
   "execution_count": 175,
   "metadata": {},
   "outputs": [],
   "source": [
    "df['targetParagraphs'] = [re.sub('[^a-zA-Z0-9 ]','',str(x)) for x in df['targetParagraphs']]\n",
    "df['targetParagraphs'] = [re.sub('xa0',' ',str(x)) for x in df['targetParagraphs']]"
   ]
  },
  {
   "cell_type": "code",
   "execution_count": 176,
   "metadata": {},
   "outputs": [
    {
     "data": {
      "text/plain": [
       "' Inexcusable  failures in UK s response to modern slavery leaving victims destitute while abusers go free  report warns'"
      ]
     },
     "execution_count": 176,
     "metadata": {},
     "output_type": "execute_result"
    }
   ],
   "source": [
    "df['targetTitle'] = [re.sub('[^a-zA-Z0-9 ]',' ',str(x)) for x in df['targetTitle']]\n",
    "df['targetTitle'] = [re.sub('xa0',' ',str(x)) for x in df['targetTitle']]\n",
    "df.iloc[0]['targetTitle']"
   ]
  },
  {
   "cell_type": "code",
   "execution_count": 178,
   "metadata": {},
   "outputs": [
    {
     "data": {
      "text/plain": [
       "' Inexcusable  failures in the UK s system for dealing with modern slavery are leaving victims reduced to destitution while their abusers go free because they are not adequately supported to testify against them  an alarming report has warned '"
      ]
     },
     "execution_count": 178,
     "metadata": {},
     "output_type": "execute_result"
    }
   ],
   "source": [
    "df['targetDescription'] = [re.sub('[^a-zA-Z0-9 ]',' ',str(x)) for x in df['targetDescription']]\n",
    "df['targetDescription'] = [re.sub('xa0',' ',str(x)) for x in df['targetDescription']]\n",
    "df.iloc[0]['targetDescription']"
   ]
  },
  {
   "cell_type": "code",
   "execution_count": 198,
   "metadata": {},
   "outputs": [],
   "source": [
    "df['Day'] = [x[:3] for x in df['postTimestamp']]"
   ]
  },
  {
   "cell_type": "code",
   "execution_count": 207,
   "metadata": {},
   "outputs": [],
   "source": [
    "df['Hour'] = [int(x[11:13]) for x in df['postTimestamp']]"
   ]
  },
  {
   "cell_type": "code",
   "execution_count": 94,
   "metadata": {},
   "outputs": [],
   "source": [
    "df.to_csv('cleaned_clickbait.csv',index=False)"
   ]
  },
  {
   "cell_type": "code",
   "execution_count": 13,
   "metadata": {
    "execution": {
     "iopub.execute_input": "2021-03-29T12:56:43.728824Z",
     "iopub.status.busy": "2021-03-29T12:56:43.727829Z",
     "iopub.status.idle": "2021-03-29T12:56:43.835819Z",
     "shell.execute_reply": "2021-03-29T12:56:43.833817Z",
     "shell.execute_reply.started": "2021-03-29T12:56:43.728824Z"
    }
   },
   "outputs": [],
   "source": [
    "def doc_embedding(text):\n",
    "    text=str(text)\n",
    "    tokens = word_tokenize(text.lower())\n",
    "    word_matrix = np.empty((1,100))\n",
    "    for i in tokens:\n",
    "        try:\n",
    "            word_embed = np.array(embedding_index[i]).reshape((1,100))\n",
    "            word_matrix = np.append(word_matrix,word_embed,axis=0)\n",
    "            #print(i)\n",
    "        except:\n",
    "            pass\n",
    "    sentence_embed = np.mean(word_matrix,axis=0).reshape(1,100)\n",
    "    return sentence_embed\n",
    "    "
   ]
  },
  {
   "cell_type": "code",
   "execution_count": 11,
   "metadata": {
    "execution": {
     "iopub.execute_input": "2021-03-29T12:55:38.622461Z",
     "iopub.status.busy": "2021-03-29T12:55:38.619466Z",
     "iopub.status.idle": "2021-03-29T12:55:45.473131Z",
     "shell.execute_reply": "2021-03-29T12:55:45.468156Z",
     "shell.execute_reply.started": "2021-03-29T12:55:38.621462Z"
    }
   },
   "outputs": [],
   "source": [
    "#df=pd.read_csv('cleaned_clickbait.csv')ClickbaitCombined\n",
    "df=pd.read_csv('ClickbaitCombined.csv')"
   ]
  },
  {
   "cell_type": "code",
   "execution_count": 149,
   "metadata": {
    "execution": {
     "iopub.execute_input": "2021-03-26T20:07:21.070710Z",
     "iopub.status.busy": "2021-03-26T20:07:21.070710Z",
     "iopub.status.idle": "2021-03-26T20:07:21.094710Z",
     "shell.execute_reply": "2021-03-26T20:07:21.094710Z",
     "shell.execute_reply.started": "2021-03-26T20:07:21.070710Z"
    }
   },
   "outputs": [
    {
     "data": {
      "text/plain": [
       "Index(['postText', 'id', 'targetParagraphs', 'targetTitle', 'postTimestamp',\n",
       "       'targetKeywords', 'targetDescription', 'Day', 'Hour', 'postTextEmbed',\n",
       "       'targetParagraphsEmbed', 'TimeClass', 'targetTitleEmbed',\n",
       "       'truthJudgments', 'truthMean', 'truthClass', 'truthMedian',\n",
       "       'truthMode'],\n",
       "      dtype='object')"
      ]
     },
     "execution_count": 149,
     "metadata": {},
     "output_type": "execute_result"
    }
   ],
   "source": [
    "df.columns"
   ]
  },
  {
   "cell_type": "code",
   "execution_count": 51,
   "metadata": {
    "execution": {
     "iopub.execute_input": "2021-03-26T10:50:01.317207Z",
     "iopub.status.busy": "2021-03-26T10:50:01.316207Z",
     "iopub.status.idle": "2021-03-26T10:50:01.387205Z",
     "shell.execute_reply": "2021-03-26T10:50:01.385207Z",
     "shell.execute_reply.started": "2021-03-26T10:50:01.316207Z"
    }
   },
   "outputs": [
    {
     "data": {
      "text/html": [
       "<div>\n",
       "<style scoped>\n",
       "    .dataframe tbody tr th:only-of-type {\n",
       "        vertical-align: middle;\n",
       "    }\n",
       "\n",
       "    .dataframe tbody tr th {\n",
       "        vertical-align: top;\n",
       "    }\n",
       "\n",
       "    .dataframe thead th {\n",
       "        text-align: right;\n",
       "    }\n",
       "</style>\n",
       "<table border=\"1\" class=\"dataframe\">\n",
       "  <thead>\n",
       "    <tr style=\"text-align: right;\">\n",
       "      <th></th>\n",
       "      <th>postText</th>\n",
       "      <th>id</th>\n",
       "      <th>targetParagraphs</th>\n",
       "      <th>targetTitle</th>\n",
       "      <th>postTimestamp</th>\n",
       "      <th>targetKeywords</th>\n",
       "      <th>targetDescription</th>\n",
       "      <th>Day</th>\n",
       "      <th>Hour</th>\n",
       "      <th>postTextEmbed</th>\n",
       "      <th>targetParagraphsEmbed</th>\n",
       "      <th>TimeClass</th>\n",
       "    </tr>\n",
       "  </thead>\n",
       "  <tbody>\n",
       "    <tr>\n",
       "      <th>0</th>\n",
       "      <td>UKs response to modern slavery leaving victims...</td>\n",
       "      <td>858462320779026433</td>\n",
       "      <td>Thousands of modern slavery victims have not c...</td>\n",
       "      <td>Inexcusable  failures in UK s response to mod...</td>\n",
       "      <td>Sat Apr 29 23:25:41 +0000 2017</td>\n",
       "      <td>modern slavery, Department For Work And Pensio...</td>\n",
       "      <td>Inexcusable  failures in the UK s system for ...</td>\n",
       "      <td>Sat</td>\n",
       "      <td>23</td>\n",
       "      <td>[[ 8.58502226e-02  4.12963883e-02 -1.34337450e...</td>\n",
       "      <td>[[ 2.01461506e-01  1.68251195e-01  8.60023832e...</td>\n",
       "      <td>Night</td>\n",
       "    </tr>\n",
       "    <tr>\n",
       "      <th>1</th>\n",
       "      <td>this is good</td>\n",
       "      <td>858421020331560960</td>\n",
       "      <td>President Donald Trump has appointed the proli...</td>\n",
       "      <td>Donald Trump Appoints Pro Life Advocate as Ass...</td>\n",
       "      <td>Sat Apr 29 20:41:34 +0000 2017</td>\n",
       "      <td>Americans United for Life, Dr. Charmaine Yoest...</td>\n",
       "      <td>President Donald Trump has appointed pro life ...</td>\n",
       "      <td>Sat</td>\n",
       "      <td>20</td>\n",
       "      <td>[[-3.89420000e-02 -1.41010000e-02 -6.18507500e...</td>\n",
       "      <td>[[ 2.08973929e-01  1.42481420e-01  8.55740227e...</td>\n",
       "      <td>Night</td>\n",
       "    </tr>\n",
       "    <tr>\n",
       "      <th>2</th>\n",
       "      <td>The forgotten Trump roast Relive his brutal 20...</td>\n",
       "      <td>858368123753435136</td>\n",
       "      <td>When the White House correspondents dinner is ...</td>\n",
       "      <td>The  forgotten  Trump roast  Relive his brutal...</td>\n",
       "      <td>Sat Apr 29 17:11:23 +0000 2017</td>\n",
       "      <td>trump whcd, whcd, white house correspondents d...</td>\n",
       "      <td>President Trump won t be at this year s White ...</td>\n",
       "      <td>Sat</td>\n",
       "      <td>17</td>\n",
       "      <td>[[-1.67562667e-02  2.03187467e-01  1.98795933e...</td>\n",
       "      <td>[[ 1.41164871e-01  1.61774987e-01  1.61848726e...</td>\n",
       "      <td>Evening</td>\n",
       "    </tr>\n",
       "    <tr>\n",
       "      <th>3</th>\n",
       "      <td>Meet the happiest dog in the world</td>\n",
       "      <td>858323428260139008</td>\n",
       "      <td>Adorable is probably an understatement This ad...</td>\n",
       "      <td>Meet The Happiest Dog In The World  Maru The H...</td>\n",
       "      <td>Sat Apr 29 14:13:46 +0000 2017</td>\n",
       "      <td>Maru, husky, dogs, pandas, furball, instagram</td>\n",
       "      <td>The article is about Maru  a husky dog who has...</td>\n",
       "      <td>Sat</td>\n",
       "      <td>14</td>\n",
       "      <td>[[-0.0864585   0.08173725  0.30983925  0.04832...</td>\n",
       "      <td>[[ 2.07431418e-01  8.05960102e-02  1.64349608e...</td>\n",
       "      <td>Afternoon</td>\n",
       "    </tr>\n",
       "    <tr>\n",
       "      <th>4</th>\n",
       "      <td>Tokyos subway is shut down amid fears over an ...</td>\n",
       "      <td>858283602626347008</td>\n",
       "      <td>One of Tokyos major subways systems says it sh...</td>\n",
       "      <td>Tokyo s subway is shut down amid fears over an...</td>\n",
       "      <td>Sat Apr 29 11:35:31 +0000 2017</td>\n",
       "      <td>Tokyo,subway,shut,fears,North,Korean,attack</td>\n",
       "      <td>The temporary suspension  which lasted ten min...</td>\n",
       "      <td>Sat</td>\n",
       "      <td>11</td>\n",
       "      <td>[[ 1.78068687e-01  1.80688687e-01 -2.93053125e...</td>\n",
       "      <td>[[ 2.79123260e-01  2.09590337e-01  6.90849727e...</td>\n",
       "      <td>Morning</td>\n",
       "    </tr>\n",
       "  </tbody>\n",
       "</table>\n",
       "</div>"
      ],
      "text/plain": [
       "                                            postText                  id  \\\n",
       "0  UKs response to modern slavery leaving victims...  858462320779026433   \n",
       "1                                       this is good  858421020331560960   \n",
       "2  The forgotten Trump roast Relive his brutal 20...  858368123753435136   \n",
       "3                 Meet the happiest dog in the world  858323428260139008   \n",
       "4  Tokyos subway is shut down amid fears over an ...  858283602626347008   \n",
       "\n",
       "                                    targetParagraphs  \\\n",
       "0  Thousands of modern slavery victims have not c...   \n",
       "1  President Donald Trump has appointed the proli...   \n",
       "2  When the White House correspondents dinner is ...   \n",
       "3  Adorable is probably an understatement This ad...   \n",
       "4  One of Tokyos major subways systems says it sh...   \n",
       "\n",
       "                                         targetTitle  \\\n",
       "0   Inexcusable  failures in UK s response to mod...   \n",
       "1  Donald Trump Appoints Pro Life Advocate as Ass...   \n",
       "2  The  forgotten  Trump roast  Relive his brutal...   \n",
       "3  Meet The Happiest Dog In The World  Maru The H...   \n",
       "4  Tokyo s subway is shut down amid fears over an...   \n",
       "\n",
       "                    postTimestamp  \\\n",
       "0  Sat Apr 29 23:25:41 +0000 2017   \n",
       "1  Sat Apr 29 20:41:34 +0000 2017   \n",
       "2  Sat Apr 29 17:11:23 +0000 2017   \n",
       "3  Sat Apr 29 14:13:46 +0000 2017   \n",
       "4  Sat Apr 29 11:35:31 +0000 2017   \n",
       "\n",
       "                                      targetKeywords  \\\n",
       "0  modern slavery, Department For Work And Pensio...   \n",
       "1  Americans United for Life, Dr. Charmaine Yoest...   \n",
       "2  trump whcd, whcd, white house correspondents d...   \n",
       "3      Maru, husky, dogs, pandas, furball, instagram   \n",
       "4        Tokyo,subway,shut,fears,North,Korean,attack   \n",
       "\n",
       "                                   targetDescription  Day  Hour  \\\n",
       "0   Inexcusable  failures in the UK s system for ...  Sat    23   \n",
       "1  President Donald Trump has appointed pro life ...  Sat    20   \n",
       "2  President Trump won t be at this year s White ...  Sat    17   \n",
       "3  The article is about Maru  a husky dog who has...  Sat    14   \n",
       "4  The temporary suspension  which lasted ten min...  Sat    11   \n",
       "\n",
       "                                       postTextEmbed  \\\n",
       "0  [[ 8.58502226e-02  4.12963883e-02 -1.34337450e...   \n",
       "1  [[-3.89420000e-02 -1.41010000e-02 -6.18507500e...   \n",
       "2  [[-1.67562667e-02  2.03187467e-01  1.98795933e...   \n",
       "3  [[-0.0864585   0.08173725  0.30983925  0.04832...   \n",
       "4  [[ 1.78068687e-01  1.80688687e-01 -2.93053125e...   \n",
       "\n",
       "                               targetParagraphsEmbed  TimeClass  \n",
       "0  [[ 2.01461506e-01  1.68251195e-01  8.60023832e...      Night  \n",
       "1  [[ 2.08973929e-01  1.42481420e-01  8.55740227e...      Night  \n",
       "2  [[ 1.41164871e-01  1.61774987e-01  1.61848726e...    Evening  \n",
       "3  [[ 2.07431418e-01  8.05960102e-02  1.64349608e...  Afternoon  \n",
       "4  [[ 2.79123260e-01  2.09590337e-01  6.90849727e...    Morning  "
      ]
     },
     "execution_count": 51,
     "metadata": {},
     "output_type": "execute_result"
    }
   ],
   "source": [
    "df.head()"
   ]
  },
  {
   "cell_type": "code",
   "execution_count": 78,
   "metadata": {
    "execution": {
     "iopub.execute_input": "2021-03-26T15:14:50.999329Z",
     "iopub.status.busy": "2021-03-26T15:14:50.998335Z",
     "iopub.status.idle": "2021-03-26T15:14:57.953771Z",
     "shell.execute_reply": "2021-03-26T15:14:57.952768Z",
     "shell.execute_reply.started": "2021-03-26T15:14:50.999329Z"
    }
   },
   "outputs": [
    {
     "name": "stdout",
     "output_type": "stream",
     "text": [
      "Wall time: 6.93 s\n"
     ]
    }
   ],
   "source": [
    "%%time\n",
    "df['postTextEmbed'] = [doc_embedding(text)[0] for text in df['postText']]"
   ]
  },
  {
   "cell_type": "code",
   "execution_count": 107,
   "metadata": {
    "execution": {
     "iopub.execute_input": "2021-03-26T15:31:03.726166Z",
     "iopub.status.busy": "2021-03-26T15:31:03.723168Z",
     "iopub.status.idle": "2021-03-26T16:24:53.207523Z",
     "shell.execute_reply": "2021-03-26T16:24:53.207523Z",
     "shell.execute_reply.started": "2021-03-26T15:31:03.726166Z"
    }
   },
   "outputs": [
    {
     "name": "stdout",
     "output_type": "stream",
     "text": [
      "Wall time: 53min 49s\n"
     ]
    }
   ],
   "source": [
    "%%time\n",
    "df['targetParagraphsEmbed'] = [doc_embedding(text)[0] for text in df['targetParagraphs']]"
   ]
  },
  {
   "cell_type": "code",
   "execution_count": 110,
   "metadata": {
    "execution": {
     "iopub.execute_input": "2021-03-26T16:53:05.334368Z",
     "iopub.status.busy": "2021-03-26T16:53:05.333369Z",
     "iopub.status.idle": "2021-03-26T16:53:12.077278Z",
     "shell.execute_reply": "2021-03-26T16:53:12.076277Z",
     "shell.execute_reply.started": "2021-03-26T16:53:05.334368Z"
    }
   },
   "outputs": [
    {
     "name": "stdout",
     "output_type": "stream",
     "text": [
      "Wall time: 6.72 s\n"
     ]
    }
   ],
   "source": [
    "%%time\n",
    "df['targetTitleEmbed'] = [doc_embedding(text)[0] for text in df['targetTitle']]"
   ]
  },
  {
   "cell_type": "code",
   "execution_count": 14,
   "metadata": {
    "execution": {
     "iopub.execute_input": "2021-03-29T12:56:48.050288Z",
     "iopub.status.busy": "2021-03-29T12:56:48.050288Z",
     "iopub.status.idle": "2021-03-29T12:57:54.077233Z",
     "shell.execute_reply": "2021-03-29T12:57:54.073233Z",
     "shell.execute_reply.started": "2021-03-29T12:56:48.050288Z"
    }
   },
   "outputs": [
    {
     "name": "stdout",
     "output_type": "stream",
     "text": [
      "Wall time: 1min 5s\n"
     ]
    }
   ],
   "source": [
    "%%time\n",
    "df['targetDescriptionEmbed'] = [doc_embedding(text)[0] for text in df['targetDescription']]"
   ]
  },
  {
   "cell_type": "code",
   "execution_count": 53,
   "metadata": {
    "execution": {
     "iopub.execute_input": "2021-03-26T10:50:42.273242Z",
     "iopub.status.busy": "2021-03-26T10:50:42.273242Z",
     "iopub.status.idle": "2021-03-26T10:51:12.420035Z",
     "shell.execute_reply": "2021-03-26T10:51:12.420035Z",
     "shell.execute_reply.started": "2021-03-26T10:50:42.273242Z"
    }
   },
   "outputs": [],
   "source": [
    "#df.to_csv('cleaned_clickbait.csv',index=False)\n",
    "#df.to_csv('ClickbaitCombined.csv',index=False)"
   ]
  },
  {
   "cell_type": "code",
   "execution_count": 42,
   "metadata": {
    "execution": {
     "iopub.execute_input": "2021-03-26T10:44:01.198523Z",
     "iopub.status.busy": "2021-03-26T10:44:01.198523Z",
     "iopub.status.idle": "2021-03-26T10:44:01.225522Z",
     "shell.execute_reply": "2021-03-26T10:44:01.224521Z",
     "shell.execute_reply.started": "2021-03-26T10:44:01.198523Z"
    }
   },
   "outputs": [],
   "source": [
    "def time_class(time):\n",
    "    if time >= 4 and time <12:\n",
    "        return 'Morning'\n",
    "    elif time >= 12 and time <17:\n",
    "        return 'Afternoon'\n",
    "    elif time >= 17 and time <20:\n",
    "        return 'Evening'\n",
    "    else:\n",
    "        return 'Night'"
   ]
  },
  {
   "cell_type": "code",
   "execution_count": 46,
   "metadata": {
    "execution": {
     "iopub.execute_input": "2021-03-26T10:45:16.527990Z",
     "iopub.status.busy": "2021-03-26T10:45:16.525987Z",
     "iopub.status.idle": "2021-03-26T10:45:16.637972Z",
     "shell.execute_reply": "2021-03-26T10:45:16.635970Z",
     "shell.execute_reply.started": "2021-03-26T10:45:16.527990Z"
    }
   },
   "outputs": [
    {
     "name": "stdout",
     "output_type": "stream",
     "text": [
      "Wall time: 79 ms\n"
     ]
    }
   ],
   "source": [
    "%%time\n",
    "df['TimeClass'] = [time_class(hour) for hour in df['Hour']]"
   ]
  },
  {
   "cell_type": "code",
   "execution_count": 91,
   "metadata": {
    "execution": {
     "iopub.execute_input": "2021-03-26T15:21:09.845124Z",
     "iopub.status.busy": "2021-03-26T15:21:09.844125Z",
     "iopub.status.idle": "2021-03-26T15:21:10.232636Z",
     "shell.execute_reply": "2021-03-26T15:21:10.231670Z",
     "shell.execute_reply.started": "2021-03-26T15:21:09.845124Z"
    }
   },
   "outputs": [],
   "source": [
    "np.save('postTextEmbed.npy', df['postTextEmbed']) "
   ]
  },
  {
   "cell_type": "code",
   "execution_count": 109,
   "metadata": {
    "execution": {
     "iopub.execute_input": "2021-03-26T16:52:49.308422Z",
     "iopub.status.busy": "2021-03-26T16:52:49.306419Z",
     "iopub.status.idle": "2021-03-26T16:52:49.613391Z",
     "shell.execute_reply": "2021-03-26T16:52:49.608483Z",
     "shell.execute_reply.started": "2021-03-26T16:52:49.308422Z"
    }
   },
   "outputs": [],
   "source": [
    "np.save('targetParagraphsEmbed.npy', df['targetParagraphsEmbed']) "
   ]
  },
  {
   "cell_type": "code",
   "execution_count": 111,
   "metadata": {
    "execution": {
     "iopub.execute_input": "2021-03-26T16:53:24.514960Z",
     "iopub.status.busy": "2021-03-26T16:53:24.512962Z",
     "iopub.status.idle": "2021-03-26T16:53:25.186761Z",
     "shell.execute_reply": "2021-03-26T16:53:25.181770Z",
     "shell.execute_reply.started": "2021-03-26T16:53:24.513960Z"
    }
   },
   "outputs": [],
   "source": [
    "np.save('targetTitleEmbed.npy', df['targetTitleEmbed']) "
   ]
  },
  {
   "cell_type": "code",
   "execution_count": 15,
   "metadata": {
    "execution": {
     "iopub.execute_input": "2021-03-29T12:59:26.330444Z",
     "iopub.status.busy": "2021-03-29T12:59:26.329442Z",
     "iopub.status.idle": "2021-03-29T12:59:26.773714Z",
     "shell.execute_reply": "2021-03-29T12:59:26.772816Z",
     "shell.execute_reply.started": "2021-03-29T12:59:26.330444Z"
    }
   },
   "outputs": [],
   "source": [
    "np.save('targetDescriptionEmbed.npy', df['targetDescriptionEmbed']) "
   ]
  },
  {
   "cell_type": "code",
   "execution_count": 28,
   "metadata": {
    "execution": {
     "iopub.execute_input": "2021-03-29T13:10:44.702826Z",
     "iopub.status.busy": "2021-03-29T13:10:44.701829Z",
     "iopub.status.idle": "2021-03-29T13:10:45.560554Z",
     "shell.execute_reply": "2021-03-29T13:10:45.558810Z",
     "shell.execute_reply.started": "2021-03-29T13:10:44.702826Z"
    }
   },
   "outputs": [],
   "source": [
    "df['postTextEmbed'] = np.load('postTextEmbed.npy',allow_pickle='TRUE')"
   ]
  },
  {
   "cell_type": "code",
   "execution_count": 29,
   "metadata": {
    "execution": {
     "iopub.execute_input": "2021-03-29T13:10:46.452649Z",
     "iopub.status.busy": "2021-03-29T13:10:46.451652Z",
     "iopub.status.idle": "2021-03-29T13:10:47.087143Z",
     "shell.execute_reply": "2021-03-29T13:10:47.086180Z",
     "shell.execute_reply.started": "2021-03-29T13:10:46.452649Z"
    }
   },
   "outputs": [],
   "source": [
    "df['targetParagraphsEmbed'] = np.load('targetParagraphsEmbed.npy',allow_pickle='TRUE')"
   ]
  },
  {
   "cell_type": "code",
   "execution_count": 30,
   "metadata": {
    "execution": {
     "iopub.execute_input": "2021-03-29T13:11:20.610975Z",
     "iopub.status.busy": "2021-03-29T13:11:20.608978Z",
     "iopub.status.idle": "2021-03-29T13:11:21.132349Z",
     "shell.execute_reply": "2021-03-29T13:11:21.131352Z",
     "shell.execute_reply.started": "2021-03-29T13:11:20.610975Z"
    }
   },
   "outputs": [],
   "source": [
    "df['targetTitleEmbed'] = np.load('targetTitleEmbed.npy',allow_pickle='TRUE')"
   ]
  },
  {
   "cell_type": "code",
   "execution_count": 31,
   "metadata": {
    "execution": {
     "iopub.execute_input": "2021-03-29T13:11:22.732628Z",
     "iopub.status.busy": "2021-03-29T13:11:22.731624Z",
     "iopub.status.idle": "2021-03-29T13:11:22.992226Z",
     "shell.execute_reply": "2021-03-29T13:11:22.990231Z",
     "shell.execute_reply.started": "2021-03-29T13:11:22.732628Z"
    }
   },
   "outputs": [],
   "source": [
    "df['targetDescriptionEmbed'] = np.load('targetDescriptionEmbed.npy',allow_pickle='TRUE')"
   ]
  },
  {
   "cell_type": "code",
   "execution_count": 119,
   "metadata": {
    "execution": {
     "iopub.execute_input": "2021-03-26T19:34:06.721425Z",
     "iopub.status.busy": "2021-03-26T19:34:06.721425Z",
     "iopub.status.idle": "2021-03-26T19:34:07.739360Z",
     "shell.execute_reply": "2021-03-26T19:34:07.739360Z",
     "shell.execute_reply.started": "2021-03-26T19:34:06.721425Z"
    }
   },
   "outputs": [],
   "source": [
    "df_truth.to_csv('df_truth',index=False)"
   ]
  },
  {
   "cell_type": "code",
   "execution_count": 122,
   "metadata": {
    "execution": {
     "iopub.execute_input": "2021-03-26T19:49:39.003449Z",
     "iopub.status.busy": "2021-03-26T19:49:39.003449Z",
     "iopub.status.idle": "2021-03-26T19:49:41.276444Z",
     "shell.execute_reply": "2021-03-26T19:49:41.276444Z",
     "shell.execute_reply.started": "2021-03-26T19:49:39.003449Z"
    }
   },
   "outputs": [],
   "source": [
    "df1 =df.copy()"
   ]
  },
  {
   "cell_type": "code",
   "execution_count": 142,
   "metadata": {
    "execution": {
     "iopub.execute_input": "2021-03-26T20:00:42.586005Z",
     "iopub.status.busy": "2021-03-26T20:00:42.586005Z",
     "iopub.status.idle": "2021-03-26T20:00:42.761988Z",
     "shell.execute_reply": "2021-03-26T20:00:42.761988Z",
     "shell.execute_reply.started": "2021-03-26T20:00:42.586005Z"
    }
   },
   "outputs": [],
   "source": [
    "df2 = pd.merge(df1,df_true,left_on='id',right_on='id')"
   ]
  },
  {
   "cell_type": "code",
   "execution_count": 144,
   "metadata": {
    "execution": {
     "iopub.execute_input": "2021-03-26T20:01:45.117212Z",
     "iopub.status.busy": "2021-03-26T20:01:45.109201Z",
     "iopub.status.idle": "2021-03-26T20:02:54.121088Z",
     "shell.execute_reply": "2021-03-26T20:02:54.121088Z",
     "shell.execute_reply.started": "2021-03-26T20:01:45.109201Z"
    }
   },
   "outputs": [],
   "source": [
    "df2.to_csv('ClickbaitCombined.csv',index=False)"
   ]
  },
  {
   "cell_type": "code",
   "execution_count": 134,
   "metadata": {
    "execution": {
     "iopub.execute_input": "2021-03-26T19:57:10.010843Z",
     "iopub.status.busy": "2021-03-26T19:57:09.994342Z",
     "iopub.status.idle": "2021-03-26T19:57:10.162827Z",
     "shell.execute_reply": "2021-03-26T19:57:10.154823Z",
     "shell.execute_reply.started": "2021-03-26T19:57:09.994342Z"
    }
   },
   "outputs": [
    {
     "data": {
      "text/plain": [
       "postText                   70\n",
       "id                          0\n",
       "targetParagraphs            0\n",
       "targetTitle                 0\n",
       "postTimestamp               0\n",
       "targetKeywords           7229\n",
       "targetDescription         943\n",
       "Day                         0\n",
       "Hour                        0\n",
       "postTextEmbed               0\n",
       "targetParagraphsEmbed       0\n",
       "TimeClass                   0\n",
       "targetTitleEmbed            0\n",
       "dtype: int64"
      ]
     },
     "execution_count": 134,
     "metadata": {},
     "output_type": "execute_result"
    }
   ],
   "source": [
    "df.isnull().sum()"
   ]
  },
  {
   "cell_type": "code",
   "execution_count": 26,
   "metadata": {
    "execution": {
     "iopub.execute_input": "2021-03-29T13:07:59.961558Z",
     "iopub.status.busy": "2021-03-29T13:07:59.961558Z",
     "iopub.status.idle": "2021-03-29T13:08:00.069535Z",
     "shell.execute_reply": "2021-03-29T13:08:00.068536Z",
     "shell.execute_reply.started": "2021-03-29T13:07:59.961558Z"
    }
   },
   "outputs": [
    {
     "data": {
      "text/html": [
       "<div>\n",
       "<style scoped>\n",
       "    .dataframe tbody tr th:only-of-type {\n",
       "        vertical-align: middle;\n",
       "    }\n",
       "\n",
       "    .dataframe tbody tr th {\n",
       "        vertical-align: top;\n",
       "    }\n",
       "\n",
       "    .dataframe thead th {\n",
       "        text-align: right;\n",
       "    }\n",
       "</style>\n",
       "<table border=\"1\" class=\"dataframe\">\n",
       "  <thead>\n",
       "    <tr style=\"text-align: right;\">\n",
       "      <th></th>\n",
       "      <th>postText</th>\n",
       "      <th>id</th>\n",
       "      <th>targetParagraphs</th>\n",
       "      <th>targetTitle</th>\n",
       "      <th>postTimestamp</th>\n",
       "      <th>targetKeywords</th>\n",
       "      <th>targetDescription</th>\n",
       "      <th>Day</th>\n",
       "      <th>Hour</th>\n",
       "      <th>postTextEmbed</th>\n",
       "      <th>targetParagraphsEmbed</th>\n",
       "      <th>TimeClass</th>\n",
       "      <th>targetTitleEmbed</th>\n",
       "      <th>truthJudgments</th>\n",
       "      <th>truthMean</th>\n",
       "      <th>truthClass</th>\n",
       "      <th>truthMedian</th>\n",
       "      <th>truthMode</th>\n",
       "      <th>targetDescriptionEmbed</th>\n",
       "    </tr>\n",
       "  </thead>\n",
       "  <tbody>\n",
       "    <tr>\n",
       "      <th>23</th>\n",
       "      <td>This Beyonc menu meme is the funniest thing yo...</td>\n",
       "      <td>857647139127558144</td>\n",
       "      <td>Log in or sign up to create your own posts I a...</td>\n",
       "      <td>This Beyonc  Menu Meme Is The Funniest Thing Y...</td>\n",
       "      <td>Thu Apr 27 17:26:26 +0000 2017</td>\n",
       "      <td>NaN</td>\n",
       "      <td>NaN</td>\n",
       "      <td>Thu</td>\n",
       "      <td>17</td>\n",
       "      <td>[ 9.58535385e-02  2.42280015e-01  1.83646923e-...</td>\n",
       "      <td>[ 8.73885562e-02  1.67657784e-01  1.28278459e-...</td>\n",
       "      <td>Evening</td>\n",
       "      <td>[ 1.21077857e-01  1.68097871e-01  9.45985714e-...</td>\n",
       "      <td>[0.0, 1.0, 0.0, 0.0, 0.3333333333]</td>\n",
       "      <td>0.266667</td>\n",
       "      <td>no-clickbait</td>\n",
       "      <td>0.000000</td>\n",
       "      <td>0.000000</td>\n",
       "      <td>[0.34157350000000003, -0.27102350000000003, -0...</td>\n",
       "    </tr>\n",
       "    <tr>\n",
       "      <th>25</th>\n",
       "      <td>14 strangely satisfying videos of melting cheese</td>\n",
       "      <td>857587134491893761</td>\n",
       "      <td>Log in or sign up to create your own posts Thi...</td>\n",
       "      <td>14 Strangely Satisfying Videos Of Melting Cheese</td>\n",
       "      <td>Thu Apr 27 13:28:00 +0000 2017</td>\n",
       "      <td>NaN</td>\n",
       "      <td>NaN</td>\n",
       "      <td>Thu</td>\n",
       "      <td>13</td>\n",
       "      <td>[ 4.73442857e-02 -1.34551429e-02 -6.32954000e-...</td>\n",
       "      <td>[ 7.36610571e-02  1.39061914e-01 -1.50948000e-...</td>\n",
       "      <td>Afternoon</td>\n",
       "      <td>[ 4.73442857e-02 -1.34551429e-02 -6.32954000e-...</td>\n",
       "      <td>[1.0, 1.0, 0.3333333333, 0.6666666666, 1.0]</td>\n",
       "      <td>0.800000</td>\n",
       "      <td>clickbait</td>\n",
       "      <td>1.000000</td>\n",
       "      <td>1.000000</td>\n",
       "      <td>[0.028444999999999998, -0.41862, -0.764495, 0....</td>\n",
       "    </tr>\n",
       "    <tr>\n",
       "      <th>40</th>\n",
       "      <td>Cunards Queen Victoria cruise ship is getting ...</td>\n",
       "      <td>857251677904228352</td>\n",
       "      <td>26 Apr 2017 There are three Cunard ocean liner...</td>\n",
       "      <td>Cruises Cunard s Queen Victoria cruise ship is...</td>\n",
       "      <td>Wed Apr 26 15:15:01 +0000 2017</td>\n",
       "      <td>cruising,cunard_cruises,cunard_cruise,travel,c...</td>\n",
       "      <td>NaN</td>\n",
       "      <td>Wed</td>\n",
       "      <td>15</td>\n",
       "      <td>[-9.69809357e-02  2.27808214e-02  2.31903000e-...</td>\n",
       "      <td>[-8.45518667e-02  4.74529511e-02  1.22065178e-...</td>\n",
       "      <td>Afternoon</td>\n",
       "      <td>[-1.16170728e-01  2.86223056e-02  1.54530667e-...</td>\n",
       "      <td>[0.0, 0.0, 0.6666666666, 0.0, 0.3333333333]</td>\n",
       "      <td>0.200000</td>\n",
       "      <td>no-clickbait</td>\n",
       "      <td>0.000000</td>\n",
       "      <td>0.000000</td>\n",
       "      <td>[0.2315, -0.1832185, -0.31141500000000005, 0.5...</td>\n",
       "    </tr>\n",
       "    <tr>\n",
       "      <th>76</th>\n",
       "      <td>16 bad vagina habits you should ditch ASAP</td>\n",
       "      <td>856017796370747392</td>\n",
       "      <td>Log in or sign up to create your own posts Are...</td>\n",
       "      <td>16 Bad Vagina Habits You Should Ditch ASAP</td>\n",
       "      <td>Sun Apr 23 05:32:01 +0000 2017</td>\n",
       "      <td>NaN</td>\n",
       "      <td>NaN</td>\n",
       "      <td>Sun</td>\n",
       "      <td>5</td>\n",
       "      <td>[ 3.89128750e-02 -4.22000000e-02  5.82421250e-...</td>\n",
       "      <td>[ 9.28142694e-02  1.06846034e-02  1.05367077e-...</td>\n",
       "      <td>Morning</td>\n",
       "      <td>[ 1.06649125e-01 -1.81672500e-01  6.04633750e-...</td>\n",
       "      <td>[0.0, 0.6666666666, 0.6666666666, 1.0, 1.0]</td>\n",
       "      <td>0.666667</td>\n",
       "      <td>clickbait</td>\n",
       "      <td>0.666667</td>\n",
       "      <td>0.666667</td>\n",
       "      <td>[0.22552500000000003, -0.14725500000000002, -0...</td>\n",
       "    </tr>\n",
       "    <tr>\n",
       "      <th>91</th>\n",
       "      <td>Heres why you really shouldnt try the new Star...</td>\n",
       "      <td>855496610448646146</td>\n",
       "      <td>Log in or sign up to create your own posts Is ...</td>\n",
       "      <td>Here s Why You Really Shouldn t Try The New St...</td>\n",
       "      <td>Fri Apr 21 19:01:00 +0000 2017</td>\n",
       "      <td>NaN</td>\n",
       "      <td>NaN</td>\n",
       "      <td>Fri</td>\n",
       "      <td>19</td>\n",
       "      <td>[-8.03022500e-02  1.92881866e-01  1.92693500e-...</td>\n",
       "      <td>[ 2.48145000e-02  1.17317718e-01  7.35730357e-...</td>\n",
       "      <td>Evening</td>\n",
       "      <td>[-1.04439714e-01  2.48446599e-01  3.34500000e-...</td>\n",
       "      <td>[0.3333333333, 1.0, 1.0, 1.0, 1.0]</td>\n",
       "      <td>0.866667</td>\n",
       "      <td>clickbait</td>\n",
       "      <td>1.000000</td>\n",
       "      <td>1.000000</td>\n",
       "      <td>[0.16346000000000002, -0.063605, -0.2032000000...</td>\n",
       "    </tr>\n",
       "  </tbody>\n",
       "</table>\n",
       "</div>"
      ],
      "text/plain": [
       "                                             postText                  id  \\\n",
       "23  This Beyonc menu meme is the funniest thing yo...  857647139127558144   \n",
       "25   14 strangely satisfying videos of melting cheese  857587134491893761   \n",
       "40  Cunards Queen Victoria cruise ship is getting ...  857251677904228352   \n",
       "76         16 bad vagina habits you should ditch ASAP  856017796370747392   \n",
       "91  Heres why you really shouldnt try the new Star...  855496610448646146   \n",
       "\n",
       "                                     targetParagraphs  \\\n",
       "23  Log in or sign up to create your own posts I a...   \n",
       "25  Log in or sign up to create your own posts Thi...   \n",
       "40  26 Apr 2017 There are three Cunard ocean liner...   \n",
       "76  Log in or sign up to create your own posts Are...   \n",
       "91  Log in or sign up to create your own posts Is ...   \n",
       "\n",
       "                                          targetTitle  \\\n",
       "23  This Beyonc  Menu Meme Is The Funniest Thing Y...   \n",
       "25   14 Strangely Satisfying Videos Of Melting Cheese   \n",
       "40  Cruises Cunard s Queen Victoria cruise ship is...   \n",
       "76         16 Bad Vagina Habits You Should Ditch ASAP   \n",
       "91  Here s Why You Really Shouldn t Try The New St...   \n",
       "\n",
       "                     postTimestamp  \\\n",
       "23  Thu Apr 27 17:26:26 +0000 2017   \n",
       "25  Thu Apr 27 13:28:00 +0000 2017   \n",
       "40  Wed Apr 26 15:15:01 +0000 2017   \n",
       "76  Sun Apr 23 05:32:01 +0000 2017   \n",
       "91  Fri Apr 21 19:01:00 +0000 2017   \n",
       "\n",
       "                                       targetKeywords targetDescription  Day  \\\n",
       "23                                                NaN               NaN  Thu   \n",
       "25                                                NaN               NaN  Thu   \n",
       "40  cruising,cunard_cruises,cunard_cruise,travel,c...               NaN  Wed   \n",
       "76                                                NaN               NaN  Sun   \n",
       "91                                                NaN               NaN  Fri   \n",
       "\n",
       "    Hour                                      postTextEmbed  \\\n",
       "23    17  [ 9.58535385e-02  2.42280015e-01  1.83646923e-...   \n",
       "25    13  [ 4.73442857e-02 -1.34551429e-02 -6.32954000e-...   \n",
       "40    15  [-9.69809357e-02  2.27808214e-02  2.31903000e-...   \n",
       "76     5  [ 3.89128750e-02 -4.22000000e-02  5.82421250e-...   \n",
       "91    19  [-8.03022500e-02  1.92881866e-01  1.92693500e-...   \n",
       "\n",
       "                                targetParagraphsEmbed  TimeClass  \\\n",
       "23  [ 8.73885562e-02  1.67657784e-01  1.28278459e-...    Evening   \n",
       "25  [ 7.36610571e-02  1.39061914e-01 -1.50948000e-...  Afternoon   \n",
       "40  [-8.45518667e-02  4.74529511e-02  1.22065178e-...  Afternoon   \n",
       "76  [ 9.28142694e-02  1.06846034e-02  1.05367077e-...    Morning   \n",
       "91  [ 2.48145000e-02  1.17317718e-01  7.35730357e-...    Evening   \n",
       "\n",
       "                                     targetTitleEmbed  \\\n",
       "23  [ 1.21077857e-01  1.68097871e-01  9.45985714e-...   \n",
       "25  [ 4.73442857e-02 -1.34551429e-02 -6.32954000e-...   \n",
       "40  [-1.16170728e-01  2.86223056e-02  1.54530667e-...   \n",
       "76  [ 1.06649125e-01 -1.81672500e-01  6.04633750e-...   \n",
       "91  [-1.04439714e-01  2.48446599e-01  3.34500000e-...   \n",
       "\n",
       "                                 truthJudgments  truthMean    truthClass  \\\n",
       "23           [0.0, 1.0, 0.0, 0.0, 0.3333333333]   0.266667  no-clickbait   \n",
       "25  [1.0, 1.0, 0.3333333333, 0.6666666666, 1.0]   0.800000     clickbait   \n",
       "40  [0.0, 0.0, 0.6666666666, 0.0, 0.3333333333]   0.200000  no-clickbait   \n",
       "76  [0.0, 0.6666666666, 0.6666666666, 1.0, 1.0]   0.666667     clickbait   \n",
       "91           [0.3333333333, 1.0, 1.0, 1.0, 1.0]   0.866667     clickbait   \n",
       "\n",
       "    truthMedian  truthMode                             targetDescriptionEmbed  \n",
       "23     0.000000   0.000000  [0.34157350000000003, -0.27102350000000003, -0...  \n",
       "25     1.000000   1.000000  [0.028444999999999998, -0.41862, -0.764495, 0....  \n",
       "40     0.000000   0.000000  [0.2315, -0.1832185, -0.31141500000000005, 0.5...  \n",
       "76     0.666667   0.666667  [0.22552500000000003, -0.14725500000000002, -0...  \n",
       "91     1.000000   1.000000  [0.16346000000000002, -0.063605, -0.2032000000...  "
      ]
     },
     "execution_count": 26,
     "metadata": {},
     "output_type": "execute_result"
    }
   ],
   "source": [
    "nan_rows = df[df['targetDescription'].isnull()]\n",
    "nan_rows.head()"
   ]
  },
  {
   "cell_type": "code",
   "execution_count": 23,
   "metadata": {
    "execution": {
     "iopub.execute_input": "2021-03-29T13:05:07.300507Z",
     "iopub.status.busy": "2021-03-29T13:05:07.300507Z",
     "iopub.status.idle": "2021-03-29T13:05:07.316518Z",
     "shell.execute_reply": "2021-03-29T13:05:07.314496Z",
     "shell.execute_reply.started": "2021-03-29T13:05:07.300507Z"
    }
   },
   "outputs": [
    {
     "data": {
      "text/plain": [
       "postMedia                         [media/photo_857647119347310592.jpg]\n",
       "postText             [This Beyoncé menu meme is the funniest thing ...\n",
       "id                                                  857647139127558144\n",
       "targetCaptions       [Julie Gerstein, Instagram, Although, come on,...\n",
       "targetParagraphs     [Log in or sign up to create your own posts., ...\n",
       "targetTitle          This Beyoncé Menu Meme Is The Funniest Thing Y...\n",
       "postTimestamp                           Thu Apr 27 17:26:26 +0000 2017\n",
       "targetKeywords                                                        \n",
       "targetDescription                                                     \n",
       "Name: 23, dtype: object"
      ]
     },
     "execution_count": 23,
     "metadata": {},
     "output_type": "execute_result"
    }
   ],
   "source": [
    "df_instance.iloc[23]"
   ]
  },
  {
   "cell_type": "code",
   "execution_count": 61,
   "metadata": {
    "execution": {
     "iopub.execute_input": "2021-03-29T13:37:47.639286Z",
     "iopub.status.busy": "2021-03-29T13:37:47.637280Z",
     "iopub.status.idle": "2021-03-29T13:37:47.680291Z",
     "shell.execute_reply": "2021-03-29T13:37:47.673289Z",
     "shell.execute_reply.started": "2021-03-29T13:37:47.639286Z"
    }
   },
   "outputs": [],
   "source": [
    "def embed_cosine(col1,col2):\n",
    "    cos_similaritycol = []\n",
    "    for i in range(len(col1)):\n",
    "        #print(i)\n",
    "        val1 = col1.iloc[i]\n",
    "        val2 = col2.iloc[i]\n",
    "        similarity = 1 - spatial.distance.cosine(val1, val2)\n",
    "        cos_similaritycol.append(similarity)\n",
    "    return cos_similaritycol\n",
    "    "
   ]
  },
  {
   "cell_type": "code",
   "execution_count": 64,
   "metadata": {
    "execution": {
     "iopub.execute_input": "2021-03-29T13:48:50.314478Z",
     "iopub.status.busy": "2021-03-29T13:48:50.314478Z",
     "iopub.status.idle": "2021-03-29T13:48:58.083292Z",
     "shell.execute_reply": "2021-03-29T13:48:58.082325Z",
     "shell.execute_reply.started": "2021-03-29T13:48:50.314478Z"
    }
   },
   "outputs": [
    {
     "name": "stdout",
     "output_type": "stream",
     "text": [
      "Wall time: 7.75 s\n"
     ]
    }
   ],
   "source": [
    "%%time\n",
    "df['postText_Paragraph_Similarity'] = embed_cosine(df['postTextEmbed'],df['targetParagraphsEmbed'])\n",
    "df['postText_Title_Similarity'] = embed_cosine(df['postTextEmbed'],df['targetTitleEmbed'])\n",
    "df['postText_Description_Similarity'] = embed_cosine(df['postTextEmbed'],df['targetDescriptionEmbed'])\n",
    "df['Paragraph_Title_Similarity'] = embed_cosine(df['targetParagraphsEmbed'],df['targetTitleEmbed'])\n",
    "df['Paragraph_Description_Similarity'] = embed_cosine(df['targetParagraphsEmbed'],df['targetDescriptionEmbed'])\n",
    "df['Title_Description_Similarity'] = embed_cosine(df['targetTitleEmbed'],df['targetDescriptionEmbed'])"
   ]
  },
  {
   "cell_type": "code",
   "execution_count": 66,
   "metadata": {
    "execution": {
     "iopub.execute_input": "2021-03-29T13:50:31.164986Z",
     "iopub.status.busy": "2021-03-29T13:50:31.163988Z",
     "iopub.status.idle": "2021-03-29T13:52:11.059588Z",
     "shell.execute_reply": "2021-03-29T13:52:11.058454Z",
     "shell.execute_reply.started": "2021-03-29T13:50:31.164986Z"
    }
   },
   "outputs": [],
   "source": [
    "df.to_csv('ClickbaitCombined.csv',index=False)"
   ]
  },
  {
   "cell_type": "code",
   "execution_count": 177,
   "metadata": {
    "execution": {
     "iopub.execute_input": "2021-03-26T20:53:31.833588Z",
     "iopub.status.busy": "2021-03-26T20:53:31.832591Z",
     "iopub.status.idle": "2021-03-26T20:53:31.869590Z",
     "shell.execute_reply": "2021-03-26T20:53:31.866594Z",
     "shell.execute_reply.started": "2021-03-26T20:53:31.833588Z"
    }
   },
   "outputs": [],
   "source": [
    "def stacked_embeds(col):\n",
    "    stacked_embeds = []\n",
    "    for i in col:\n",
    "        stacked_embeds.append(i)\n",
    "    stacked_embeds = np.asarray(stacked_embeds)\n",
    "    return stacked_embeds"
   ]
  },
  {
   "cell_type": "code",
   "execution_count": 188,
   "metadata": {
    "execution": {
     "iopub.execute_input": "2021-03-26T20:58:17.977390Z",
     "iopub.status.busy": "2021-03-26T20:58:17.975395Z",
     "iopub.status.idle": "2021-03-26T20:58:18.046393Z",
     "shell.execute_reply": "2021-03-26T20:58:18.043391Z",
     "shell.execute_reply.started": "2021-03-26T20:58:17.977390Z"
    }
   },
   "outputs": [
    {
     "data": {
      "text/plain": [
       "(19538, 100)"
      ]
     },
     "execution_count": 188,
     "metadata": {},
     "output_type": "execute_result"
    }
   ],
   "source": [
    "title_stacked_embeds = stacked_embeds(df['targetTitleEmbed'])\n",
    "title_stacked_embeds.shape\n"
   ]
  },
  {
   "cell_type": "code",
   "execution_count": 189,
   "metadata": {
    "execution": {
     "iopub.execute_input": "2021-03-26T20:58:19.414725Z",
     "iopub.status.busy": "2021-03-26T20:58:19.412727Z",
     "iopub.status.idle": "2021-03-26T20:58:19.461716Z",
     "shell.execute_reply": "2021-03-26T20:58:19.459717Z",
     "shell.execute_reply.started": "2021-03-26T20:58:19.414725Z"
    }
   },
   "outputs": [],
   "source": [
    "np.save('Title Stacked Embeds.npy', title_stacked_embeds) "
   ]
  },
  {
   "cell_type": "code",
   "execution_count": 3,
   "metadata": {
    "execution": {
     "iopub.execute_input": "2021-03-29T12:06:12.460099Z",
     "iopub.status.busy": "2021-03-29T12:06:12.460099Z",
     "iopub.status.idle": "2021-03-29T12:06:13.020313Z",
     "shell.execute_reply": "2021-03-29T12:06:13.020313Z",
     "shell.execute_reply.started": "2021-03-29T12:06:12.460099Z"
    }
   },
   "outputs": [],
   "source": [
    "title_stacked_embeds = np.load('Title Stacked Embeds.npy',allow_pickle='TRUE')"
   ]
  },
  {
   "cell_type": "code",
   "execution_count": 6,
   "metadata": {
    "execution": {
     "iopub.execute_input": "2021-03-29T12:06:51.717174Z",
     "iopub.status.busy": "2021-03-29T12:06:51.717174Z",
     "iopub.status.idle": "2021-03-29T12:06:51.755152Z",
     "shell.execute_reply": "2021-03-29T12:06:51.750119Z",
     "shell.execute_reply.started": "2021-03-29T12:06:51.717174Z"
    }
   },
   "outputs": [
    {
     "data": {
      "text/plain": [
       "(19538, 100)"
      ]
     },
     "execution_count": 6,
     "metadata": {},
     "output_type": "execute_result"
    }
   ],
   "source": [
    "title_stacked_embeds.shape"
   ]
  },
  {
   "cell_type": "code",
   "execution_count": 190,
   "metadata": {
    "execution": {
     "iopub.execute_input": "2021-03-26T20:58:20.906847Z",
     "iopub.status.busy": "2021-03-26T20:58:20.904846Z",
     "iopub.status.idle": "2021-03-26T20:58:20.994847Z",
     "shell.execute_reply": "2021-03-26T20:58:20.992834Z",
     "shell.execute_reply.started": "2021-03-26T20:58:20.905843Z"
    }
   },
   "outputs": [
    {
     "data": {
      "text/plain": [
       "(19538, 100)"
      ]
     },
     "execution_count": 190,
     "metadata": {},
     "output_type": "execute_result"
    }
   ],
   "source": [
    "paragraph_stacked_embeds = stacked_embeds(df['targetParagraphsEmbed'])\n",
    "paragraph_stacked_embeds.shape"
   ]
  },
  {
   "cell_type": "code",
   "execution_count": 191,
   "metadata": {
    "execution": {
     "iopub.execute_input": "2021-03-26T20:58:23.476333Z",
     "iopub.status.busy": "2021-03-26T20:58:23.475337Z",
     "iopub.status.idle": "2021-03-26T20:58:23.502336Z",
     "shell.execute_reply": "2021-03-26T20:58:23.501334Z",
     "shell.execute_reply.started": "2021-03-26T20:58:23.476333Z"
    }
   },
   "outputs": [],
   "source": [
    "np.save('Paragraph Stacked Embeds.npy', paragraph_stacked_embeds) "
   ]
  },
  {
   "cell_type": "code",
   "execution_count": 67,
   "metadata": {
    "execution": {
     "iopub.execute_input": "2021-03-29T13:52:11.062616Z",
     "iopub.status.busy": "2021-03-29T13:52:11.061617Z",
     "iopub.status.idle": "2021-03-29T13:52:11.090616Z",
     "shell.execute_reply": "2021-03-29T13:52:11.089615Z",
     "shell.execute_reply.started": "2021-03-29T13:52:11.062616Z"
    }
   },
   "outputs": [
    {
     "data": {
      "text/plain": [
       "Index(['postText', 'id', 'targetParagraphs', 'targetTitle', 'postTimestamp',\n",
       "       'targetKeywords', 'targetDescription', 'Day', 'Hour', 'postTextEmbed',\n",
       "       'targetParagraphsEmbed', 'TimeClass', 'targetTitleEmbed',\n",
       "       'truthJudgments', 'truthMean', 'truthClass', 'truthMedian', 'truthMode',\n",
       "       'targetDescriptionEmbed', 'postText_Paragraph_Similarity',\n",
       "       'postText_Title_Similarity', 'postText_Description_Similarity',\n",
       "       'Paragraph_Title_Similarity', 'Paragraph_Description_Similarity',\n",
       "       'Title_Description_Similarity'],\n",
       "      dtype='object')"
      ]
     },
     "execution_count": 67,
     "metadata": {},
     "output_type": "execute_result"
    }
   ],
   "source": [
    "df.columns"
   ]
  },
  {
   "cell_type": "code",
   "execution_count": 8,
   "metadata": {
    "execution": {
     "iopub.execute_input": "2021-03-29T12:08:06.723052Z",
     "iopub.status.busy": "2021-03-29T12:08:06.723052Z",
     "iopub.status.idle": "2021-03-29T12:08:07.134728Z",
     "shell.execute_reply": "2021-03-29T12:08:07.134728Z",
     "shell.execute_reply.started": "2021-03-29T12:08:06.723052Z"
    }
   },
   "outputs": [],
   "source": [
    "paragraph_stacked_embeds = np.load('Paragraph Stacked Embeds.npy',allow_pickle='TRUE')"
   ]
  },
  {
   "cell_type": "code",
   "execution_count": 84,
   "metadata": {
    "execution": {
     "iopub.execute_input": "2021-03-29T13:58:36.614010Z",
     "iopub.status.busy": "2021-03-29T13:58:36.614010Z",
     "iopub.status.idle": "2021-03-29T13:58:36.638049Z",
     "shell.execute_reply": "2021-03-29T13:58:36.638049Z",
     "shell.execute_reply.started": "2021-03-29T13:58:36.614010Z"
    }
   },
   "outputs": [],
   "source": [
    "#X = np.append(title_stacked_embeds,paragraph_stacked_embeds,axis=1)\n",
    "X = df[['postText_Paragraph_Similarity',\n",
    "'postText_Title_Similarity',\n",
    "'postText_Description_Similarity',\n",
    "'Paragraph_Title_Similarity',\n",
    "'Paragraph_Description_Similarity',\n",
    "'Title_Description_Similarity']]"
   ]
  },
  {
   "cell_type": "code",
   "execution_count": 3,
   "metadata": {
    "execution": {
     "iopub.execute_input": "2021-03-27T14:09:22.126816Z",
     "iopub.status.busy": "2021-03-27T14:09:22.126816Z",
     "iopub.status.idle": "2021-03-27T14:09:26.128498Z",
     "shell.execute_reply": "2021-03-27T14:09:26.128498Z",
     "shell.execute_reply.started": "2021-03-27T14:09:22.126816Z"
    }
   },
   "outputs": [],
   "source": [
    "df=pd.read_csv('ClickbaitCombined.csv')"
   ]
  },
  {
   "cell_type": "code",
   "execution_count": 85,
   "metadata": {
    "execution": {
     "iopub.execute_input": "2021-03-29T13:58:38.638016Z",
     "iopub.status.busy": "2021-03-29T13:58:38.638016Z",
     "iopub.status.idle": "2021-03-29T13:58:38.654009Z",
     "shell.execute_reply": "2021-03-29T13:58:38.654009Z",
     "shell.execute_reply.started": "2021-03-29T13:58:38.638016Z"
    }
   },
   "outputs": [],
   "source": [
    "y = df['truthClass']"
   ]
  },
  {
   "cell_type": "code",
   "execution_count": 93,
   "metadata": {
    "execution": {
     "iopub.execute_input": "2021-03-29T15:20:08.455105Z",
     "iopub.status.busy": "2021-03-29T15:20:08.431141Z",
     "iopub.status.idle": "2021-03-29T15:20:08.890922Z",
     "shell.execute_reply": "2021-03-29T15:20:08.888923Z",
     "shell.execute_reply.started": "2021-03-29T15:20:08.455105Z"
    }
   },
   "outputs": [
    {
     "name": "stdout",
     "output_type": "stream",
     "text": [
      "Wall time: 329 ms\n"
     ]
    }
   ],
   "source": [
    "%%time\n",
    "sss = StratifiedShuffleSplit(n_splits=5, test_size=0.3, random_state=1)\n",
    "sss.get_n_splits(X, y)\n",
    "for train_index, test_index in sss.split(X, y):\n",
    "    \n",
    "    X_train, X_test = X.iloc[train_index], X.iloc[test_index]\n",
    "    y_train, y_test = y.iloc[train_index], y.iloc[test_index]"
   ]
  },
  {
   "cell_type": "code",
   "execution_count": 75,
   "metadata": {
    "execution": {
     "iopub.execute_input": "2021-03-29T13:54:39.146553Z",
     "iopub.status.busy": "2021-03-29T13:54:39.145550Z",
     "iopub.status.idle": "2021-03-29T13:54:39.187547Z",
     "shell.execute_reply": "2021-03-29T13:54:39.182553Z",
     "shell.execute_reply.started": "2021-03-29T13:54:39.146553Z"
    }
   },
   "outputs": [],
   "source": [
    "X_train, X_test, y_train, y_test = train_test_split(X, y, test_size=0.3, random_state=42)"
   ]
  },
  {
   "cell_type": "code",
   "execution_count": 341,
   "metadata": {
    "execution": {
     "iopub.execute_input": "2021-03-29T16:10:11.669237Z",
     "iopub.status.busy": "2021-03-29T16:10:11.669237Z",
     "iopub.status.idle": "2021-03-29T16:13:13.072751Z",
     "shell.execute_reply": "2021-03-29T16:13:13.072751Z",
     "shell.execute_reply.started": "2021-03-29T16:10:11.669237Z"
    }
   },
   "outputs": [
    {
     "name": "stdout",
     "output_type": "stream",
     "text": [
      "Wall time: 3min 1s\n"
     ]
    }
   ],
   "source": [
    "%%time\n",
    "from sklearn.model_selection import GridSearchCV\n",
    "from sklearn.svm import SVC\n",
    "\n",
    "# Define the parameters to tune\n",
    "parameters = { \n",
    "    'kernel' : ('linear','poly','rbf','sigmoid'),\n",
    "    'C': [0.01,0.1,1,10]\n",
    "}\n",
    "# Tune yyperparameters  using Grid Search and a SVM model\n",
    "#model = GridSearchCV(SVC(), param_grid = parameters, cv=10, n_jobs=-1,scoring='accuracy').fit(X_train, y_train)\n",
    "model = SVC(kernel='poly',C=0.1).fit(X_train, y_train)"
   ]
  },
  {
   "cell_type": "code",
   "execution_count": 345,
   "metadata": {
    "execution": {
     "iopub.execute_input": "2021-03-29T16:23:28.045286Z",
     "iopub.status.busy": "2021-03-29T16:23:28.015420Z",
     "iopub.status.idle": "2021-03-29T16:23:28.935117Z",
     "shell.execute_reply": "2021-03-29T16:23:28.934534Z",
     "shell.execute_reply.started": "2021-03-29T16:23:28.045286Z"
    }
   },
   "outputs": [],
   "source": [
    "y_pred = model.predict(X_test)"
   ]
  },
  {
   "cell_type": "code",
   "execution_count": 346,
   "metadata": {
    "execution": {
     "iopub.execute_input": "2021-03-29T16:23:28.954541Z",
     "iopub.status.busy": "2021-03-29T16:23:28.935117Z",
     "iopub.status.idle": "2021-03-29T16:23:29.204847Z",
     "shell.execute_reply": "2021-03-29T16:23:29.204847Z",
     "shell.execute_reply.started": "2021-03-29T16:23:28.954541Z"
    }
   },
   "outputs": [
    {
     "name": "stdout",
     "output_type": "stream",
     "text": [
      "              precision    recall  f1-score   support\n",
      "\n",
      "   clickbait       0.67      0.18      0.29      1428\n",
      "no-clickbait       0.79      0.97      0.87      4434\n",
      "\n",
      "    accuracy                           0.78      5862\n",
      "   macro avg       0.73      0.58      0.58      5862\n",
      "weighted avg       0.76      0.78      0.73      5862\n",
      "\n"
     ]
    }
   ],
   "source": [
    "print(classification_report(y_test,y_pred))"
   ]
  },
  {
   "cell_type": "code",
   "execution_count": 347,
   "metadata": {
    "execution": {
     "iopub.execute_input": "2021-03-29T16:23:29.209861Z",
     "iopub.status.busy": "2021-03-29T16:23:29.209861Z",
     "iopub.status.idle": "2021-03-29T16:23:31.828880Z",
     "shell.execute_reply": "2021-03-29T16:23:31.828880Z",
     "shell.execute_reply.started": "2021-03-29T16:23:29.209861Z"
    }
   },
   "outputs": [
    {
     "name": "stdout",
     "output_type": "stream",
     "text": [
      "train score: 0.7812225797016672\n",
      "test score: 0.7789150460593655\n"
     ]
    }
   ],
   "source": [
    "print(\"train score:\", model.score(X_train, y_train))\n",
    "print(\"test score:\", model.score(X_test, y_test))"
   ]
  },
  {
   "cell_type": "code",
   "execution_count": null,
   "metadata": {},
   "outputs": [],
   "source": [
    "model.best_params_\n",
    "# C=10 and kernel ='poly'"
   ]
  },
  {
   "cell_type": "code",
   "execution_count": 302,
   "metadata": {
    "execution": {
     "iopub.execute_input": "2021-03-29T15:46:52.857725Z",
     "iopub.status.busy": "2021-03-29T15:46:52.857725Z",
     "iopub.status.idle": "2021-03-29T15:47:10.031343Z",
     "shell.execute_reply": "2021-03-29T15:47:10.031343Z",
     "shell.execute_reply.started": "2021-03-29T15:46:52.857725Z"
    }
   },
   "outputs": [
    {
     "name": "stdout",
     "output_type": "stream",
     "text": [
      "Wall time: 17.1 s\n"
     ]
    },
    {
     "data": {
      "text/plain": [
       "RandomForestClassifier(max_depth=15, n_estimators=400)"
      ]
     },
     "execution_count": 302,
     "metadata": {},
     "output_type": "execute_result"
    }
   ],
   "source": [
    "%%time\n",
    "from sklearn.ensemble import RandomForestClassifier\n",
    "from sklearn.metrics import accuracy_score, confusion_matrix, classification_report\n",
    "clf = RandomForestClassifier(n_estimators=400,max_depth=15)\n",
    "clf.fit(X_train, y_train)"
   ]
  },
  {
   "cell_type": "code",
   "execution_count": 303,
   "metadata": {
    "execution": {
     "iopub.execute_input": "2021-03-29T15:47:10.031343Z",
     "iopub.status.busy": "2021-03-29T15:47:10.031343Z",
     "iopub.status.idle": "2021-03-29T15:47:10.767922Z",
     "shell.execute_reply": "2021-03-29T15:47:10.767922Z",
     "shell.execute_reply.started": "2021-03-29T15:47:10.031343Z"
    }
   },
   "outputs": [],
   "source": [
    "y_pred = clf.predict(X_test)"
   ]
  },
  {
   "cell_type": "code",
   "execution_count": 304,
   "metadata": {
    "execution": {
     "iopub.execute_input": "2021-03-29T15:47:10.767922Z",
     "iopub.status.busy": "2021-03-29T15:47:10.767922Z",
     "iopub.status.idle": "2021-03-29T15:47:11.007343Z",
     "shell.execute_reply": "2021-03-29T15:47:11.007343Z",
     "shell.execute_reply.started": "2021-03-29T15:47:10.767922Z"
    }
   },
   "outputs": [
    {
     "name": "stdout",
     "output_type": "stream",
     "text": [
      "              precision    recall  f1-score   support\n",
      "\n",
      "   clickbait       0.64      0.22      0.33      1428\n",
      "no-clickbait       0.79      0.96      0.87      4434\n",
      "\n",
      "    accuracy                           0.78      5862\n",
      "   macro avg       0.72      0.59      0.60      5862\n",
      "weighted avg       0.76      0.78      0.74      5862\n",
      "\n"
     ]
    }
   ],
   "source": [
    "print(classification_report(y_test,y_pred))"
   ]
  },
  {
   "cell_type": "code",
   "execution_count": 305,
   "metadata": {
    "execution": {
     "iopub.execute_input": "2021-03-29T15:47:11.015344Z",
     "iopub.status.busy": "2021-03-29T15:47:11.007343Z",
     "iopub.status.idle": "2021-03-29T15:47:13.087344Z",
     "shell.execute_reply": "2021-03-29T15:47:13.087344Z",
     "shell.execute_reply.started": "2021-03-29T15:47:11.015344Z"
    }
   },
   "outputs": [
    {
     "name": "stdout",
     "output_type": "stream",
     "text": [
      "train score: 0.8661158233401579\n",
      "test score: 0.7802797679972705\n"
     ]
    }
   ],
   "source": [
    "print(\"train score:\", clf.score(X_train, y_train))\n",
    "print(\"test score:\", clf.score(X_test, y_test))"
   ]
  },
  {
   "cell_type": "code",
   "execution_count": 298,
   "metadata": {
    "execution": {
     "iopub.execute_input": "2021-03-29T15:46:25.158321Z",
     "iopub.status.busy": "2021-03-29T15:46:25.158321Z",
     "iopub.status.idle": "2021-03-29T15:46:25.454292Z",
     "shell.execute_reply": "2021-03-29T15:46:25.454292Z",
     "shell.execute_reply.started": "2021-03-29T15:46:25.158321Z"
    }
   },
   "outputs": [
    {
     "name": "stdout",
     "output_type": "stream",
     "text": [
      "Wall time: 264 ms\n"
     ]
    }
   ],
   "source": [
    "%%time\n",
    "from sklearn.linear_model import LogisticRegression\n",
    "\n",
    "parameters ={'C':[0.01,0.1,1,10.0]}\n",
    "#lr = GridSearchCV(LogisticRegression(max_iter=10000), param_grid = parameters, cv=10, n_jobs=-1,scoring='accuracy').fit(X_train, y_train)\n",
    "lr = LogisticRegression(C=10,max_iter=20000).fit(X_train, y_train)"
   ]
  },
  {
   "cell_type": "code",
   "execution_count": 95,
   "metadata": {
    "execution": {
     "iopub.execute_input": "2021-03-29T15:21:18.289496Z",
     "iopub.status.busy": "2021-03-29T15:21:18.287502Z",
     "iopub.status.idle": "2021-03-29T15:21:18.322485Z",
     "shell.execute_reply": "2021-03-29T15:21:18.318485Z",
     "shell.execute_reply.started": "2021-03-29T15:21:18.289496Z"
    }
   },
   "outputs": [
    {
     "data": {
      "text/plain": [
       "{'C': 10.0}"
      ]
     },
     "execution_count": 95,
     "metadata": {},
     "output_type": "execute_result"
    }
   ],
   "source": [
    "lr.best_params_"
   ]
  },
  {
   "cell_type": "code",
   "execution_count": 299,
   "metadata": {
    "execution": {
     "iopub.execute_input": "2021-03-29T15:46:28.896732Z",
     "iopub.status.busy": "2021-03-29T15:46:28.896732Z",
     "iopub.status.idle": "2021-03-29T15:46:28.920683Z",
     "shell.execute_reply": "2021-03-29T15:46:28.920683Z",
     "shell.execute_reply.started": "2021-03-29T15:46:28.896732Z"
    }
   },
   "outputs": [],
   "source": [
    "y_pred = lr.predict(X_test)"
   ]
  },
  {
   "cell_type": "code",
   "execution_count": 300,
   "metadata": {
    "execution": {
     "iopub.execute_input": "2021-03-29T15:46:29.740975Z",
     "iopub.status.busy": "2021-03-29T15:46:29.732955Z",
     "iopub.status.idle": "2021-03-29T15:46:30.079171Z",
     "shell.execute_reply": "2021-03-29T15:46:30.078136Z",
     "shell.execute_reply.started": "2021-03-29T15:46:29.740975Z"
    }
   },
   "outputs": [
    {
     "name": "stdout",
     "output_type": "stream",
     "text": [
      "              precision    recall  f1-score   support\n",
      "\n",
      "   clickbait       0.64      0.16      0.25      1428\n",
      "no-clickbait       0.78      0.97      0.87      4434\n",
      "\n",
      "    accuracy                           0.77      5862\n",
      "   macro avg       0.71      0.56      0.56      5862\n",
      "weighted avg       0.75      0.77      0.72      5862\n",
      "\n"
     ]
    }
   ],
   "source": [
    "print(classification_report(y_test,y_pred))"
   ]
  },
  {
   "cell_type": "code",
   "execution_count": 301,
   "metadata": {
    "execution": {
     "iopub.execute_input": "2021-03-29T15:46:32.100302Z",
     "iopub.status.busy": "2021-03-29T15:46:32.092313Z",
     "iopub.status.idle": "2021-03-29T15:46:32.236289Z",
     "shell.execute_reply": "2021-03-29T15:46:32.236289Z",
     "shell.execute_reply.started": "2021-03-29T15:46:32.100302Z"
    }
   },
   "outputs": [
    {
     "name": "stdout",
     "output_type": "stream",
     "text": [
      "train score: 0.7775665399239544\n",
      "test score: 0.7732855680655066\n"
     ]
    }
   ],
   "source": [
    "print(\"train score:\", lr.score(X_train, y_train))\n",
    "print(\"test score:\", lr.score(X_test, y_test))"
   ]
  },
  {
   "cell_type": "code",
   "execution_count": 310,
   "metadata": {
    "execution": {
     "iopub.execute_input": "2021-03-29T15:47:50.148816Z",
     "iopub.status.busy": "2021-03-29T15:47:50.148816Z",
     "iopub.status.idle": "2021-03-29T15:47:53.376273Z",
     "shell.execute_reply": "2021-03-29T15:47:53.376273Z",
     "shell.execute_reply.started": "2021-03-29T15:47:50.148816Z"
    }
   },
   "outputs": [
    {
     "name": "stdout",
     "output_type": "stream",
     "text": [
      "Wall time: 3.2 s\n"
     ]
    },
    {
     "data": {
      "text/plain": [
       "AdaBoostClassifier(n_estimators=100, random_state=0)"
      ]
     },
     "execution_count": 310,
     "metadata": {},
     "output_type": "execute_result"
    }
   ],
   "source": [
    "%%time\n",
    "from sklearn.ensemble import AdaBoostClassifier\n",
    "ada = AdaBoostClassifier(n_estimators=100, random_state=0)\n",
    "ada.fit(X_train, y_train)"
   ]
  },
  {
   "cell_type": "code",
   "execution_count": 311,
   "metadata": {
    "execution": {
     "iopub.execute_input": "2021-03-29T15:47:53.376273Z",
     "iopub.status.busy": "2021-03-29T15:47:53.376273Z",
     "iopub.status.idle": "2021-03-29T15:47:53.648371Z",
     "shell.execute_reply": "2021-03-29T15:47:53.648371Z",
     "shell.execute_reply.started": "2021-03-29T15:47:53.376273Z"
    }
   },
   "outputs": [],
   "source": [
    "y_pred = ada.predict(X_test)"
   ]
  },
  {
   "cell_type": "code",
   "execution_count": 312,
   "metadata": {
    "execution": {
     "iopub.execute_input": "2021-03-29T15:47:53.648371Z",
     "iopub.status.busy": "2021-03-29T15:47:53.648371Z",
     "iopub.status.idle": "2021-03-29T15:47:53.888642Z",
     "shell.execute_reply": "2021-03-29T15:47:53.888277Z",
     "shell.execute_reply.started": "2021-03-29T15:47:53.648371Z"
    }
   },
   "outputs": [
    {
     "name": "stdout",
     "output_type": "stream",
     "text": [
      "              precision    recall  f1-score   support\n",
      "\n",
      "   clickbait       0.61      0.20      0.30      1428\n",
      "no-clickbait       0.79      0.96      0.87      4434\n",
      "\n",
      "    accuracy                           0.77      5862\n",
      "   macro avg       0.70      0.58      0.58      5862\n",
      "weighted avg       0.74      0.77      0.73      5862\n",
      "\n"
     ]
    }
   ],
   "source": [
    "print(classification_report(y_test,y_pred))"
   ]
  },
  {
   "cell_type": "code",
   "execution_count": 313,
   "metadata": {
    "execution": {
     "iopub.execute_input": "2021-03-29T15:47:53.888642Z",
     "iopub.status.busy": "2021-03-29T15:47:53.888642Z",
     "iopub.status.idle": "2021-03-29T15:47:54.489460Z",
     "shell.execute_reply": "2021-03-29T15:47:54.489460Z",
     "shell.execute_reply.started": "2021-03-29T15:47:53.888642Z"
    }
   },
   "outputs": [
    {
     "name": "stdout",
     "output_type": "stream",
     "text": [
      "train score: 0.7838549283416204\n",
      "test score: 0.7736267485499829\n"
     ]
    }
   ],
   "source": [
    "print(\"train score:\", ada.score(X_train, y_train))\n",
    "print(\"test score:\", ada.score(X_test, y_test))"
   ]
  },
  {
   "cell_type": "code",
   "execution_count": 326,
   "metadata": {
    "execution": {
     "iopub.execute_input": "2021-03-29T15:49:43.905127Z",
     "iopub.status.busy": "2021-03-29T15:49:43.905127Z",
     "iopub.status.idle": "2021-03-29T15:49:46.983253Z",
     "shell.execute_reply": "2021-03-29T15:49:46.983253Z",
     "shell.execute_reply.started": "2021-03-29T15:49:43.905127Z"
    }
   },
   "outputs": [
    {
     "name": "stdout",
     "output_type": "stream",
     "text": [
      "Wall time: 3.03 s\n"
     ]
    }
   ],
   "source": [
    "%%time\n",
    "from sklearn.ensemble import GradientBoostingClassifier\n",
    "gb = GradientBoostingClassifier(n_estimators=50, learning_rate=1.0,\n",
    "      max_depth=5, random_state=0).fit(X_train, y_train)\n"
   ]
  },
  {
   "cell_type": "code",
   "execution_count": 327,
   "metadata": {
    "execution": {
     "iopub.execute_input": "2021-03-29T15:49:46.983253Z",
     "iopub.status.busy": "2021-03-29T15:49:46.983253Z",
     "iopub.status.idle": "2021-03-29T15:49:47.031250Z",
     "shell.execute_reply": "2021-03-29T15:49:47.031250Z",
     "shell.execute_reply.started": "2021-03-29T15:49:46.983253Z"
    }
   },
   "outputs": [],
   "source": [
    "y_predg = gb.predict(X_test)"
   ]
  },
  {
   "cell_type": "code",
   "execution_count": 328,
   "metadata": {
    "execution": {
     "iopub.execute_input": "2021-03-29T15:49:47.039249Z",
     "iopub.status.busy": "2021-03-29T15:49:47.039249Z",
     "iopub.status.idle": "2021-03-29T15:49:47.384236Z",
     "shell.execute_reply": "2021-03-29T15:49:47.384236Z",
     "shell.execute_reply.started": "2021-03-29T15:49:47.039249Z"
    }
   },
   "outputs": [
    {
     "name": "stdout",
     "output_type": "stream",
     "text": [
      "              precision    recall  f1-score   support\n",
      "\n",
      "   clickbait       0.42      0.27      0.33      1428\n",
      "no-clickbait       0.79      0.88      0.83      4434\n",
      "\n",
      "    accuracy                           0.73      5862\n",
      "   macro avg       0.61      0.57      0.58      5862\n",
      "weighted avg       0.70      0.73      0.71      5862\n",
      "\n"
     ]
    }
   ],
   "source": [
    "print(classification_report(y_test,y_predg))"
   ]
  },
  {
   "cell_type": "code",
   "execution_count": 329,
   "metadata": {
    "execution": {
     "iopub.execute_input": "2021-03-29T15:49:47.384236Z",
     "iopub.status.busy": "2021-03-29T15:49:47.384236Z",
     "iopub.status.idle": "2021-03-29T15:49:47.544232Z",
     "shell.execute_reply": "2021-03-29T15:49:47.544232Z",
     "shell.execute_reply.started": "2021-03-29T15:49:47.384236Z"
    }
   },
   "outputs": [
    {
     "name": "stdout",
     "output_type": "stream",
     "text": [
      "train score: 0.8746709564200058\n",
      "test score: 0.7326850904128284\n"
     ]
    }
   ],
   "source": [
    "print(\"train score:\", gb.score(X_train, y_train))\n",
    "print(\"test score:\", gb.score(X_test, y_test))"
   ]
  },
  {
   "cell_type": "code",
   "execution_count": 271,
   "metadata": {
    "execution": {
     "iopub.execute_input": "2021-03-29T15:41:39.237614Z",
     "iopub.status.busy": "2021-03-29T15:41:39.204638Z",
     "iopub.status.idle": "2021-03-29T15:41:40.289277Z",
     "shell.execute_reply": "2021-03-29T15:41:40.288275Z",
     "shell.execute_reply.started": "2021-03-29T15:41:39.237614Z"
    }
   },
   "outputs": [
    {
     "name": "stdout",
     "output_type": "stream",
     "text": [
      "[17:41:39] WARNING: C:/Users/Administrator/workspace/xgboost-win64_release_1.3.0/src/learner.cc:1061: Starting in XGBoost 1.3.0, the default evaluation metric used with the objective 'binary:logistic' was changed from 'error' to 'logloss'. Explicitly set eval_metric if you'd like to restore the old behavior.\n"
     ]
    },
    {
     "data": {
      "text/plain": [
       "XGBClassifier(base_score=0.5, booster='gbtree', colsample_bylevel=1,\n",
       "              colsample_bynode=1, colsample_bytree=1, gamma=0, gpu_id=-1,\n",
       "              importance_type='gain', interaction_constraints='',\n",
       "              learning_rate=0.1, max_delta_step=0, max_depth=5,\n",
       "              min_child_weight=1, missing=nan, monotone_constraints='()',\n",
       "              n_estimators=50, n_jobs=4, num_parallel_tree=1, random_state=1,\n",
       "              reg_alpha=0, reg_lambda=1, scale_pos_weight=1, subsample=1,\n",
       "              tree_method='exact', validate_parameters=1, verbosity=None)"
      ]
     },
     "execution_count": 271,
     "metadata": {},
     "output_type": "execute_result"
    }
   ],
   "source": [
    "import xgboost as xgb\n",
    "xgbmodel = xgb.XGBClassifier( max_depth=5,learning_rate=0.1,n_estimators=50,random_state=1,objective='binary:logistic')\n",
    "xgbmodel.fit(X_train,y_train)\n"
   ]
  },
  {
   "cell_type": "code",
   "execution_count": 272,
   "metadata": {
    "execution": {
     "iopub.execute_input": "2021-03-29T15:41:40.293276Z",
     "iopub.status.busy": "2021-03-29T15:41:40.292277Z",
     "iopub.status.idle": "2021-03-29T15:41:40.322278Z",
     "shell.execute_reply": "2021-03-29T15:41:40.320279Z",
     "shell.execute_reply.started": "2021-03-29T15:41:40.293276Z"
    }
   },
   "outputs": [],
   "source": [
    "ypred = xgbmodel.predict(X_test)"
   ]
  },
  {
   "cell_type": "code",
   "execution_count": 273,
   "metadata": {
    "execution": {
     "iopub.execute_input": "2021-03-29T15:41:40.324277Z",
     "iopub.status.busy": "2021-03-29T15:41:40.324277Z",
     "iopub.status.idle": "2021-03-29T15:41:40.622112Z",
     "shell.execute_reply": "2021-03-29T15:41:40.621117Z",
     "shell.execute_reply.started": "2021-03-29T15:41:40.324277Z"
    }
   },
   "outputs": [
    {
     "name": "stdout",
     "output_type": "stream",
     "text": [
      "              precision    recall  f1-score   support\n",
      "\n",
      "   clickbait       0.67      0.23      0.35      1428\n",
      "no-clickbait       0.80      0.96      0.87      4434\n",
      "\n",
      "    accuracy                           0.78      5862\n",
      "   macro avg       0.73      0.60      0.61      5862\n",
      "weighted avg       0.76      0.78      0.74      5862\n",
      "\n"
     ]
    }
   ],
   "source": [
    "print(classification_report(y_test,ypred))"
   ]
  },
  {
   "cell_type": "code",
   "execution_count": 274,
   "metadata": {
    "execution": {
     "iopub.execute_input": "2021-03-29T15:41:42.762183Z",
     "iopub.status.busy": "2021-03-29T15:41:42.760185Z",
     "iopub.status.idle": "2021-03-29T15:41:42.951175Z",
     "shell.execute_reply": "2021-03-29T15:41:42.949173Z",
     "shell.execute_reply.started": "2021-03-29T15:41:42.762183Z"
    }
   },
   "outputs": [
    {
     "name": "stdout",
     "output_type": "stream",
     "text": [
      "train score: 0.7999415033635566\n",
      "test score: 0.7848857045377005\n"
     ]
    }
   ],
   "source": [
    "print(\"train score:\", xgbmodel.score(X_train, y_train))\n",
    "print(\"test score:\", xgbmodel.score(X_test, y_test))"
   ]
  }
 ],
 "metadata": {
  "kernelspec": {
   "display_name": "Python 3",
   "language": "python",
   "name": "python3"
  },
  "language_info": {
   "codemirror_mode": {
    "name": "ipython",
    "version": 3
   },
   "file_extension": ".py",
   "mimetype": "text/x-python",
   "name": "python",
   "nbconvert_exporter": "python",
   "pygments_lexer": "ipython3",
   "version": "3.8.5"
  }
 },
 "nbformat": 4,
 "nbformat_minor": 4
}
