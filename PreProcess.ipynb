{
 "cells": [
  {
   "cell_type": "code",
   "execution_count": 1,
   "id": "fe2868b6",
   "metadata": {},
   "outputs": [],
   "source": [
    "import os\n",
    "import json_lines\n",
    "import pandas as pd\n",
    "import re\n",
    "from nltk.corpus import stopwords\n",
    "from nltk.tokenize import word_tokenize "
   ]
  },
  {
   "cell_type": "code",
   "execution_count": 2,
   "id": "8a34ea7b",
   "metadata": {},
   "outputs": [],
   "source": [
    "# If it does not exist, download the clickbait training dataset\n",
    "! [[ ! -d \"data\" ]] && mkdir data\n",
    "! [[ ! -d \"data/clickbait17-validation-170630\" ]] && wget \"https://zenodo.org/record/3346491/files/clickbait17-train-170630.zip?download=1\" -O data/temp.zip && unzip -q data/temp.zip -d data && rm data/temp.zip && rm -r data/clickbait17-validation-170630/media"
   ]
  },
  {
   "cell_type": "code",
   "execution_count": 3,
   "id": "4a9084a4",
   "metadata": {},
   "outputs": [],
   "source": [
    "def load_data(path):\n",
    "    instance_file = open(os.path.join(path, 'instances.jsonl'),'rb')\n",
    "    truth_file = open(os.path.join(path, 'truth.jsonl'),'rb')\n",
    "    j_instance = []\n",
    "    j_truth = []\n",
    "    for item in json_lines.reader(instance_file):\n",
    "        j_instance.append(item)\n",
    "    \n",
    "    for item in json_lines.reader(truth_file):\n",
    "        j_truth.append(item)\n",
    "    \n",
    "    df_instance = pd.DataFrame(j_instance)\n",
    "    df_truth = pd.DataFrame(j_truth)\n",
    "    instance_file.close()\n",
    "    truth_file.close()\n",
    "    return df_instance, df_truth"
   ]
  },
  {
   "cell_type": "code",
   "execution_count": 4,
   "id": "47581a32",
   "metadata": {},
   "outputs": [],
   "source": [
    "# Load data from downloaded file\n",
    "df, df_truth = load_data('data/clickbait17-validation-170630/')"
   ]
  },
  {
   "cell_type": "code",
   "execution_count": 5,
   "id": "bb487bfe",
   "metadata": {},
   "outputs": [],
   "source": [
    "# Drop the post media columns as we do not use this in the project\n",
    "df = df.drop('postMedia',1)\n",
    "df = df.drop('targetCaptions', 1)"
   ]
  },
  {
   "cell_type": "code",
   "execution_count": 6,
   "id": "459efaff",
   "metadata": {},
   "outputs": [],
   "source": [
    "stop_words = set(stopwords.words('english'))\n",
    "\n",
    "def clean_column(column):\n",
    "    column = [re.sub('[^a-zA-Z0-9 ]', '', str(x)) for x in column]\n",
    "    column = [re.sub('xa0', ' ', str(x)) for x in column]\n",
    "    column = [str(x).lower() for x in column]\n",
    "    column = [' '.join([str(word) for word in word_tokenize(sentence) if not word in stop_words]) for sentence in column]\n",
    "    \n",
    "    return column"
   ]
  },
  {
   "cell_type": "code",
   "execution_count": 7,
   "id": "7598af6a",
   "metadata": {},
   "outputs": [],
   "source": [
    "# Remove unecessary tokens from the columns of the dataframe\n",
    "df['postText'] = clean_column(df['postText'])\n",
    "df['targetParagraphs'] = clean_column(df['targetParagraphs'])\n",
    "df['targetTitle'] = clean_column(df['targetTitle'])\n",
    "df['targetDescription'] = clean_column(df['targetDescription'])\n",
    "df['targetKeywords'] = clean_column(df['targetKeywords'])\n",
    "df['Day'] = [x[:3] for x in df['postTimestamp']]\n",
    "df['Hour'] = [int(x[11:13]) for x in df['postTimestamp']]"
   ]
  },
  {
   "cell_type": "code",
   "execution_count": 8,
   "id": "ed040885",
   "metadata": {},
   "outputs": [],
   "source": [
    "def time_class(time):\n",
    "    if time >= 4 and time <12:\n",
    "        return 'Morning'\n",
    "    elif time >= 12 and time <17:\n",
    "        return 'Afternoon'\n",
    "    elif time >= 17 and time <20:\n",
    "        return 'Evening'\n",
    "    else:\n",
    "        return 'Night'"
   ]
  },
  {
   "cell_type": "code",
   "execution_count": 9,
   "id": "5f6eb292",
   "metadata": {},
   "outputs": [],
   "source": [
    "# Add classification for the time of day each post\n",
    "df['TimeClass'] = [time_class(hour) for hour in df['Hour']]"
   ]
  },
  {
   "cell_type": "code",
   "execution_count": 10,
   "id": "ac42f17f",
   "metadata": {},
   "outputs": [],
   "source": [
    "# Merge the instance data with the truth scores\n",
    "df = pd.merge(df,df_truth,left_on='id',right_on='id')"
   ]
  },
  {
   "cell_type": "code",
   "execution_count": 11,
   "id": "fd812377",
   "metadata": {},
   "outputs": [],
   "source": [
    "# Save df as csv\n",
    "df.to_csv('data/cleaned_clickbait.csv',index=False)"
   ]
  }
 ],
 "metadata": {
  "kernelspec": {
   "display_name": "Python 3",
   "language": "python",
   "name": "python3"
  },
  "language_info": {
   "codemirror_mode": {
    "name": "ipython",
    "version": 3
   },
   "file_extension": ".py",
   "mimetype": "text/x-python",
   "name": "python",
   "nbconvert_exporter": "python",
   "pygments_lexer": "ipython3",
   "version": "3.8.5"
  }
 },
 "nbformat": 4,
 "nbformat_minor": 5
}
